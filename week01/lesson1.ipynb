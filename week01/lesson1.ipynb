{
 "cells": [
  {
   "cell_type": "markdown",
   "metadata": {},
   "source": [
    "# Week 1"
   ]
  },
  {
   "cell_type": "markdown",
   "metadata": {},
   "source": [
    "Useful Links: \n",
    "\n",
    "Python Documentation: https://docs.python.org/3/tutorial/index.html  \n",
    "Python Standard Library: https://docs.python.org/3/library/  \n",
    "Jupyter Documentation: https://ipython.readthedocs.io/en/stable/interactive/magics.html  \n",
    "\n",
    "Git Cheat Sheet: https://github.github.com/training-kit/downloads/github-git-cheat-sheet.pdf  \n",
    "Jupyter Cheat Sheet: https://www.cheatography.com/weidadeyue/cheat-sheets/jupyter-notebook/pdf_bw/  \n",
    "Markdown Cheat Sheet: https://github.com/adam-p/markdown-here/wiki/Markdown-Cheatsheet  \n",
    "Latex Cheat Sheet: https://www.nyu.edu/projects/beber/files/Chang_LaTeX_sheet.pdf\n",
    "\n",
    "Stack overflow is your friend: https://stackoverflow.com/"
   ]
  },
  {
   "cell_type": "markdown",
   "metadata": {},
   "source": [
    "# Background"
   ]
  },
  {
   "cell_type": "markdown",
   "metadata": {},
   "source": [
    "## Strongly Typed\n",
    "\n",
    "A variable only has operations that pertain to its declared object types"
   ]
  },
  {
   "cell_type": "code",
   "execution_count": 58,
   "metadata": {},
   "outputs": [
    {
     "ename": "TypeError",
     "evalue": "unsupported operand type(s) for +: 'int' and 'str'",
     "output_type": "error",
     "traceback": [
      "\u001b[1;31m---------------------------------------------------------------------------\u001b[0m",
      "\u001b[1;31mTypeError\u001b[0m                                 Traceback (most recent call last)",
      "\u001b[1;32m<ipython-input-58-588cf1018a1f>\u001b[0m in \u001b[0;36m<module>\u001b[1;34m\u001b[0m\n\u001b[0;32m      1\u001b[0m \u001b[0ma\u001b[0m \u001b[1;33m=\u001b[0m \u001b[1;36m4\u001b[0m\u001b[1;33m\u001b[0m\u001b[1;33m\u001b[0m\u001b[0m\n\u001b[0;32m      2\u001b[0m \u001b[0mb\u001b[0m \u001b[1;33m=\u001b[0m \u001b[1;34m\"cat\"\u001b[0m\u001b[1;33m\u001b[0m\u001b[1;33m\u001b[0m\u001b[0m\n\u001b[1;32m----> 3\u001b[1;33m \u001b[0mprint\u001b[0m\u001b[1;33m(\u001b[0m\u001b[0ma\u001b[0m \u001b[1;33m+\u001b[0m \u001b[0mb\u001b[0m\u001b[1;33m)\u001b[0m\u001b[1;33m\u001b[0m\u001b[1;33m\u001b[0m\u001b[0m\n\u001b[0m",
      "\u001b[1;31mTypeError\u001b[0m: unsupported operand type(s) for +: 'int' and 'str'"
     ]
    }
   ],
   "source": [
    "a = 4\n",
    "b = \"cat\"\n",
    "print(a + b)"
   ]
  },
  {
   "cell_type": "markdown",
   "metadata": {},
   "source": [
    "## Dynamic Typing\n",
    "\n",
    "A variable can refer to one type of object at one point, then another type at another point.  Remember that variable `a` currently refers to an integer.  We can make it refer to a string instead:"
   ]
  },
  {
   "cell_type": "code",
   "execution_count": 55,
   "metadata": {},
   "outputs": [],
   "source": [
    "a = 1"
   ]
  },
  {
   "cell_type": "code",
   "execution_count": 25,
   "metadata": {
    "collapsed": false
   },
   "outputs": [
    {
     "data": {
      "text/plain": [
       "'ChaCha'"
      ]
     },
     "execution_count": 25,
     "metadata": {},
     "output_type": "execute_result"
    }
   ],
   "source": [
    "a = \"Cha\"\n",
    "a + a"
   ]
  },
  {
   "cell_type": "markdown",
   "metadata": {},
   "source": [
    "This is a feature of Python known as dynamic typing.  Other languages, such as C and Java, do not allow this; they are statically typed languages."
   ]
  },
  {
   "cell_type": "markdown",
   "metadata": {},
   "source": [
    "### Markdown & Latex"
   ]
  },
  {
   "cell_type": "markdown",
   "metadata": {},
   "source": [
    "$\\LaTeX$ is a very useful method to create mathematical notation.\n",
    "\n",
    "$$ \\sum_i^n f(x_i)$$\n",
    "\n",
    "$$ \\int_i^\\infty f(x_i)$$\n",
    "\n",
    "$$ \\frac{\\sum_i^n f(x_i)}{n}$$\n"
   ]
  },
  {
   "cell_type": "markdown",
   "metadata": {},
   "source": [
    "### Installing Packages"
   ]
  },
  {
   "cell_type": "code",
   "execution_count": 7,
   "metadata": {},
   "outputs": [],
   "source": [
    "import pandas as pd\n",
    "import numpy as np\n",
    "import matplotlib.pyplot as plt\n",
    "import sklearn as sk"
   ]
  },
  {
   "cell_type": "code",
   "execution_count": 4,
   "metadata": {},
   "outputs": [
    {
     "name": "stdout",
     "output_type": "stream",
     "text": [
      "Requirement already satisfied: pandas in c:\\users\\bisedab\\appdata\\local\\continuum\\anaconda3\\lib\\site-packages (0.24.2)\n",
      "Requirement already satisfied: pytz>=2011k in c:\\users\\bisedab\\appdata\\local\\continuum\\anaconda3\\lib\\site-packages (from pandas) (2018.9)\n",
      "Requirement already satisfied: python-dateutil>=2.5.0 in c:\\users\\bisedab\\appdata\\local\\continuum\\anaconda3\\lib\\site-packages (from pandas) (2.8.0)\n",
      "Requirement already satisfied: numpy>=1.12.0 in c:\\users\\bisedab\\appdata\\local\\continuum\\anaconda3\\lib\\site-packages (from pandas) (1.16.2)\n",
      "Requirement already satisfied: six>=1.5 in c:\\users\\bisedab\\appdata\\local\\continuum\\anaconda3\\lib\\site-packages (from python-dateutil>=2.5.0->pandas) (1.12.0)\n"
     ]
    }
   ],
   "source": [
    "!pip install pandas"
   ]
  },
  {
   "cell_type": "code",
   "execution_count": 5,
   "metadata": {},
   "outputs": [
    {
     "name": "stdout",
     "output_type": "stream",
     "text": [
      "Requirement already satisfied: numpy in c:\\users\\bisedab\\appdata\\local\\continuum\\anaconda3\\lib\\site-packages (1.16.2)\n"
     ]
    }
   ],
   "source": [
    "!pip install numpy"
   ]
  },
  {
   "cell_type": "code",
   "execution_count": 6,
   "metadata": {},
   "outputs": [
    {
     "name": "stdout",
     "output_type": "stream",
     "text": [
      "Requirement already satisfied: matplotlib in c:\\users\\bisedab\\appdata\\local\\continuum\\anaconda3\\lib\\site-packages (3.0.3)\n",
      "Requirement already satisfied: numpy>=1.10.0 in c:\\users\\bisedab\\appdata\\local\\continuum\\anaconda3\\lib\\site-packages (from matplotlib) (1.16.2)\n",
      "Requirement already satisfied: cycler>=0.10 in c:\\users\\bisedab\\appdata\\local\\continuum\\anaconda3\\lib\\site-packages (from matplotlib) (0.10.0)\n",
      "Requirement already satisfied: kiwisolver>=1.0.1 in c:\\users\\bisedab\\appdata\\local\\continuum\\anaconda3\\lib\\site-packages (from matplotlib) (1.0.1)\n",
      "Requirement already satisfied: pyparsing!=2.0.4,!=2.1.2,!=2.1.6,>=2.0.1 in c:\\users\\bisedab\\appdata\\local\\continuum\\anaconda3\\lib\\site-packages (from matplotlib) (2.3.1)\n",
      "Requirement already satisfied: python-dateutil>=2.1 in c:\\users\\bisedab\\appdata\\local\\continuum\\anaconda3\\lib\\site-packages (from matplotlib) (2.8.0)\n",
      "Requirement already satisfied: six in c:\\users\\bisedab\\appdata\\local\\continuum\\anaconda3\\lib\\site-packages (from cycler>=0.10->matplotlib) (1.12.0)\n",
      "Requirement already satisfied: setuptools in c:\\users\\bisedab\\appdata\\local\\continuum\\anaconda3\\lib\\site-packages (from kiwisolver>=1.0.1->matplotlib) (40.8.0)\n"
     ]
    }
   ],
   "source": [
    "!pip install matplotlib"
   ]
  },
  {
   "cell_type": "code",
   "execution_count": 8,
   "metadata": {},
   "outputs": [
    {
     "name": "stdout",
     "output_type": "stream",
     "text": [
      "Collecting sklearn\n",
      "Requirement already satisfied: scikit-learn in c:\\users\\bisedab\\appdata\\local\\continuum\\anaconda3\\lib\\site-packages (from sklearn) (0.20.3)\n",
      "Requirement already satisfied: scipy>=0.13.3 in c:\\users\\bisedab\\appdata\\local\\continuum\\anaconda3\\lib\\site-packages (from scikit-learn->sklearn) (1.2.1)\n",
      "Requirement already satisfied: numpy>=1.8.2 in c:\\users\\bisedab\\appdata\\local\\continuum\\anaconda3\\lib\\site-packages (from scikit-learn->sklearn) (1.16.2)\n",
      "Installing collected packages: sklearn\n",
      "Successfully installed sklearn-0.0\n"
     ]
    }
   ],
   "source": [
    "!pip install sklearn"
   ]
  },
  {
   "cell_type": "markdown",
   "metadata": {},
   "source": [
    "### Basic Data Types\n",
    "\n",
    "We've seen that everything in Python is an object, and every object in Python has a type.  Here are some of Python's most basic (and most common) data types:\n",
    "\n",
    "- **booleans (bool):** which can have the value of either `True` or `False`\n",
    "- **integers (int):** whole numbers like `4`, `-345`, and `10000000`\n",
    "- **floats (float):** numbers that have a decimal point like `847.5`, `3.14159`, and any number written in scientific notation, e.g., `2e8` or `200000000.0`\n",
    "- **strings (str):** sequences of text characters (like \"Book\")"
   ]
  },
  {
   "cell_type": "code",
   "execution_count": 1,
   "metadata": {},
   "outputs": [
    {
     "data": {
      "text/plain": [
       "4"
      ]
     },
     "execution_count": 1,
     "metadata": {},
     "output_type": "execute_result"
    }
   ],
   "source": [
    "2+2"
   ]
  },
  {
   "cell_type": "code",
   "execution_count": 11,
   "metadata": {},
   "outputs": [
    {
     "data": {
      "text/plain": [
       "int"
      ]
     },
     "execution_count": 11,
     "metadata": {},
     "output_type": "execute_result"
    }
   ],
   "source": [
    "type(2+2)"
   ]
  },
  {
   "cell_type": "code",
   "execution_count": 12,
   "metadata": {},
   "outputs": [
    {
     "data": {
      "text/plain": [
       "4.5"
      ]
     },
     "execution_count": 12,
     "metadata": {},
     "output_type": "execute_result"
    }
   ],
   "source": [
    "2+2.5"
   ]
  },
  {
   "cell_type": "code",
   "execution_count": 13,
   "metadata": {},
   "outputs": [
    {
     "data": {
      "text/plain": [
       "float"
      ]
     },
     "execution_count": 13,
     "metadata": {},
     "output_type": "execute_result"
    }
   ],
   "source": [
    "type(2+2.5)"
   ]
  },
  {
   "cell_type": "code",
   "execution_count": 9,
   "metadata": {},
   "outputs": [
    {
     "data": {
      "text/plain": [
       "False"
      ]
     },
     "execution_count": 9,
     "metadata": {},
     "output_type": "execute_result"
    }
   ],
   "source": [
    "2 > 5"
   ]
  },
  {
   "cell_type": "code",
   "execution_count": 10,
   "metadata": {},
   "outputs": [
    {
     "data": {
      "text/plain": [
       "True"
      ]
     },
     "execution_count": 10,
     "metadata": {},
     "output_type": "execute_result"
    }
   ],
   "source": [
    "2 == 2"
   ]
  },
  {
   "cell_type": "code",
   "execution_count": 14,
   "metadata": {},
   "outputs": [
    {
     "data": {
      "text/plain": [
       "bool"
      ]
     },
     "execution_count": 14,
     "metadata": {},
     "output_type": "execute_result"
    }
   ],
   "source": [
    "type(2==2)"
   ]
  },
  {
   "cell_type": "code",
   "execution_count": 15,
   "metadata": {},
   "outputs": [
    {
     "data": {
      "text/plain": [
       "'cat'"
      ]
     },
     "execution_count": 15,
     "metadata": {},
     "output_type": "execute_result"
    }
   ],
   "source": [
    "\"cat\""
   ]
  },
  {
   "cell_type": "code",
   "execution_count": 16,
   "metadata": {},
   "outputs": [
    {
     "data": {
      "text/plain": [
       "str"
      ]
     },
     "execution_count": 16,
     "metadata": {},
     "output_type": "execute_result"
    }
   ],
   "source": [
    "type(\"cat\")"
   ]
  },
  {
   "cell_type": "code",
   "execution_count": 17,
   "metadata": {},
   "outputs": [],
   "source": [
    "dog = \"dog\""
   ]
  },
  {
   "cell_type": "code",
   "execution_count": 18,
   "metadata": {},
   "outputs": [
    {
     "name": "stdout",
     "output_type": "stream",
     "text": [
      "dog\n"
     ]
    }
   ],
   "source": [
    "print(dog)"
   ]
  },
  {
   "cell_type": "code",
   "execution_count": 19,
   "metadata": {},
   "outputs": [
    {
     "data": {
      "text/plain": [
       "'dogcat'"
      ]
     },
     "execution_count": 19,
     "metadata": {},
     "output_type": "execute_result"
    }
   ],
   "source": [
    "dog+\"cat\""
   ]
  },
  {
   "cell_type": "code",
   "execution_count": 20,
   "metadata": {},
   "outputs": [
    {
     "ename": "TypeError",
     "evalue": "can only concatenate str (not \"int\") to str",
     "output_type": "error",
     "traceback": [
      "\u001b[1;31m---------------------------------------------------------------------------\u001b[0m",
      "\u001b[1;31mTypeError\u001b[0m                                 Traceback (most recent call last)",
      "\u001b[1;32m<ipython-input-20-c15d3d8b7d9e>\u001b[0m in \u001b[0;36m<module>\u001b[1;34m\u001b[0m\n\u001b[1;32m----> 1\u001b[1;33m \u001b[0mdog\u001b[0m\u001b[1;33m+\u001b[0m\u001b[1;36m5\u001b[0m\u001b[1;33m\u001b[0m\u001b[1;33m\u001b[0m\u001b[0m\n\u001b[0m",
      "\u001b[1;31mTypeError\u001b[0m: can only concatenate str (not \"int\") to str"
     ]
    }
   ],
   "source": [
    "dog+5"
   ]
  },
  {
   "cell_type": "code",
   "execution_count": 21,
   "metadata": {},
   "outputs": [
    {
     "data": {
      "text/plain": [
       "'dog5'"
      ]
     },
     "execution_count": 21,
     "metadata": {},
     "output_type": "execute_result"
    }
   ],
   "source": [
    "dog+str(5)"
   ]
  },
  {
   "cell_type": "markdown",
   "metadata": {},
   "source": [
    "### Operations"
   ]
  },
  {
   "cell_type": "code",
   "execution_count": 22,
   "metadata": {},
   "outputs": [
    {
     "data": {
      "text/plain": [
       "4"
      ]
     },
     "execution_count": 22,
     "metadata": {},
     "output_type": "execute_result"
    }
   ],
   "source": [
    "2+2"
   ]
  },
  {
   "cell_type": "code",
   "execution_count": 23,
   "metadata": {},
   "outputs": [
    {
     "data": {
      "text/plain": [
       "2"
      ]
     },
     "execution_count": 23,
     "metadata": {},
     "output_type": "execute_result"
    }
   ],
   "source": [
    "5-3"
   ]
  },
  {
   "cell_type": "code",
   "execution_count": 37,
   "metadata": {},
   "outputs": [
    {
     "data": {
      "text/plain": [
       "10"
      ]
     },
     "execution_count": 37,
     "metadata": {},
     "output_type": "execute_result"
    }
   ],
   "source": [
    "2 * 5"
   ]
  },
  {
   "cell_type": "code",
   "execution_count": 25,
   "metadata": {},
   "outputs": [
    {
     "data": {
      "text/plain": [
       "10"
      ]
     },
     "execution_count": 25,
     "metadata": {},
     "output_type": "execute_result"
    }
   ],
   "source": [
    "abs(-10)"
   ]
  },
  {
   "cell_type": "code",
   "execution_count": 31,
   "metadata": {},
   "outputs": [
    {
     "data": {
      "text/plain": [
       "3.3333333333333335"
      ]
     },
     "execution_count": 31,
     "metadata": {},
     "output_type": "execute_result"
    }
   ],
   "source": [
    "10/3"
   ]
  },
  {
   "cell_type": "code",
   "execution_count": 30,
   "metadata": {},
   "outputs": [
    {
     "data": {
      "text/plain": [
       "3"
      ]
     },
     "execution_count": 30,
     "metadata": {},
     "output_type": "execute_result"
    }
   ],
   "source": [
    "10//3"
   ]
  },
  {
   "cell_type": "code",
   "execution_count": 29,
   "metadata": {},
   "outputs": [
    {
     "data": {
      "text/plain": [
       "1"
      ]
     },
     "execution_count": 29,
     "metadata": {},
     "output_type": "execute_result"
    }
   ],
   "source": [
    "10%3"
   ]
  },
  {
   "cell_type": "code",
   "execution_count": 32,
   "metadata": {},
   "outputs": [
    {
     "data": {
      "text/plain": [
       "1000"
      ]
     },
     "execution_count": 32,
     "metadata": {},
     "output_type": "execute_result"
    }
   ],
   "source": [
    "10**3"
   ]
  },
  {
   "cell_type": "code",
   "execution_count": 39,
   "metadata": {},
   "outputs": [],
   "source": [
    "import math\n",
    "# https://docs.python.org/3/library/math.html"
   ]
  },
  {
   "cell_type": "code",
   "execution_count": 34,
   "metadata": {},
   "outputs": [
    {
     "data": {
      "text/plain": [
       "1000.0"
      ]
     },
     "execution_count": 34,
     "metadata": {},
     "output_type": "execute_result"
    }
   ],
   "source": [
    "math.pow(10,3)"
   ]
  },
  {
   "cell_type": "code",
   "execution_count": 35,
   "metadata": {},
   "outputs": [
    {
     "data": {
      "text/plain": [
       "14"
      ]
     },
     "execution_count": 35,
     "metadata": {},
     "output_type": "execute_result"
    }
   ],
   "source": [
    "2 + 3 * 4"
   ]
  },
  {
   "cell_type": "code",
   "execution_count": 36,
   "metadata": {},
   "outputs": [
    {
     "data": {
      "text/plain": [
       "20"
      ]
     },
     "execution_count": 36,
     "metadata": {},
     "output_type": "execute_result"
    }
   ],
   "source": [
    "(2 + 3) * 4"
   ]
  },
  {
   "cell_type": "markdown",
   "metadata": {},
   "source": [
    "Finally, it is important to be careful when comparing floats because there is a possibility of rounding error. Consider the following expression:"
   ]
  },
  {
   "cell_type": "code",
   "execution_count": 13,
   "metadata": {
    "collapsed": false
   },
   "outputs": [
    {
     "data": {
      "text/plain": [
       "False"
      ]
     },
     "execution_count": 13,
     "metadata": {},
     "output_type": "execute_result"
    }
   ],
   "source": [
    ".1 + .1 + .1 == .3"
   ]
  },
  {
   "cell_type": "markdown",
   "metadata": {},
   "source": [
    "The expression appears true, and it's not clear why there is rounding error at all since the numbers end after one decimal point. However, when written in binary notation, .1 is actually a nonterminating decimal. This is an issue that arises in how the computer stores floating point values. Because they're imprecise, the computer cannot store this value without rounding. \n",
    "\n",
    "The rounding errors add up, so the left-hand side is not exactly equal to the right-hand side."
   ]
  },
  {
   "cell_type": "code",
   "execution_count": 14,
   "metadata": {
    "collapsed": false
   },
   "outputs": [
    {
     "data": {
      "text/plain": [
       "0.30000000000000004"
      ]
     },
     "execution_count": 14,
     "metadata": {},
     "output_type": "execute_result"
    }
   ],
   "source": [
    ".1 + .1 + .1"
   ]
  },
  {
   "cell_type": "code",
   "execution_count": 46,
   "metadata": {},
   "outputs": [
    {
     "data": {
      "text/plain": [
       "True"
      ]
     },
     "execution_count": 46,
     "metadata": {},
     "output_type": "execute_result"
    }
   ],
   "source": [
    "math.isclose(0.1+0.1+0.1,0.3, rel_tol=1e-09)"
   ]
  },
  {
   "cell_type": "markdown",
   "metadata": {},
   "source": [
    "### Shorthand operators"
   ]
  },
  {
   "cell_type": "markdown",
   "metadata": {},
   "source": [
    "Python provides shorthand operators that make operations like `a = a - 1` more consise:"
   ]
  },
  {
   "cell_type": "code",
   "execution_count": 47,
   "metadata": {},
   "outputs": [],
   "source": [
    "a=-1"
   ]
  },
  {
   "cell_type": "code",
   "execution_count": 48,
   "metadata": {
    "collapsed": false
   },
   "outputs": [
    {
     "name": "stdout",
     "output_type": "stream",
     "text": [
      "-1\n"
     ]
    }
   ],
   "source": [
    "print(a)"
   ]
  },
  {
   "cell_type": "code",
   "execution_count": 49,
   "metadata": {
    "collapsed": true
   },
   "outputs": [],
   "source": [
    "a -= 1"
   ]
  },
  {
   "cell_type": "code",
   "execution_count": 50,
   "metadata": {
    "collapsed": false
   },
   "outputs": [
    {
     "name": "stdout",
     "output_type": "stream",
     "text": [
      "-2\n"
     ]
    }
   ],
   "source": [
    "print(a)"
   ]
  },
  {
   "cell_type": "markdown",
   "metadata": {},
   "source": [
    "As you can see, the expression `a -= 1` and `a = a -1` are equivalent. There are corresponding operators for many of the operators that we have discussed. For example: "
   ]
  },
  {
   "cell_type": "code",
   "execution_count": 51,
   "metadata": {
    "collapsed": false
   },
   "outputs": [
    {
     "name": "stdout",
     "output_type": "stream",
     "text": [
      "24\n"
     ]
    }
   ],
   "source": [
    "b = 24\n",
    "print(b)"
   ]
  },
  {
   "cell_type": "code",
   "execution_count": 52,
   "metadata": {
    "collapsed": false
   },
   "outputs": [
    {
     "name": "stdout",
     "output_type": "stream",
     "text": [
      "4\n"
     ]
    }
   ],
   "source": [
    "b //= 5\n",
    "print(b)"
   ]
  },
  {
   "cell_type": "code",
   "execution_count": 53,
   "metadata": {
    "collapsed": false
   },
   "outputs": [
    {
     "name": "stdout",
     "output_type": "stream",
     "text": [
      "8\n"
     ]
    }
   ],
   "source": [
    "b *= 2\n",
    "print(b)"
   ]
  },
  {
   "cell_type": "code",
   "execution_count": 54,
   "metadata": {
    "collapsed": false
   },
   "outputs": [
    {
     "name": "stdout",
     "output_type": "stream",
     "text": [
      "0\n"
     ]
    }
   ],
   "source": [
    "b %= 4\n",
    "print(b)"
   ]
  },
  {
   "cell_type": "markdown",
   "metadata": {},
   "source": [
    "# Ancillary Sheets\n",
    "\n",
    "We can now look at the other notebooks for strings, modules, if statements, & while loops"
   ]
  },
  {
   "cell_type": "markdown",
   "metadata": {},
   "source": [
    "# Back to More Stuff Here!"
   ]
  },
  {
   "cell_type": "markdown",
   "metadata": {},
   "source": [
    "### Example of More Complex Types"
   ]
  },
  {
   "cell_type": "markdown",
   "metadata": {},
   "source": [
    "# Lists, Tuples, & Dicts!!!!!"
   ]
  },
  {
   "cell_type": "code",
   "execution_count": 64,
   "metadata": {
    "collapsed": false
   },
   "outputs": [
    {
     "data": {
      "text/plain": [
       "[]"
      ]
     },
     "execution_count": 64,
     "metadata": {},
     "output_type": "execute_result"
    }
   ],
   "source": [
    "[]"
   ]
  },
  {
   "cell_type": "code",
   "execution_count": 65,
   "metadata": {
    "collapsed": false
   },
   "outputs": [
    {
     "data": {
      "text/plain": [
       "[1, 2, 1, 2]"
      ]
     },
     "execution_count": 65,
     "metadata": {},
     "output_type": "execute_result"
    }
   ],
   "source": [
    "[1,2,1,2]"
   ]
  },
  {
   "cell_type": "code",
   "execution_count": 68,
   "metadata": {
    "collapsed": false
   },
   "outputs": [
    {
     "data": {
      "text/plain": [
       "['h', 'e', 'l', 'l', 'o']"
      ]
     },
     "execution_count": 68,
     "metadata": {},
     "output_type": "execute_result"
    }
   ],
   "source": [
    "list('hello')"
   ]
  },
  {
   "cell_type": "code",
   "execution_count": 69,
   "metadata": {
    "collapsed": false
   },
   "outputs": [],
   "source": [
    "first_list = [1,2,3,4,5]\n",
    "second_list = [6,7,8,9]"
   ]
  },
  {
   "cell_type": "code",
   "execution_count": 70,
   "metadata": {
    "collapsed": false
   },
   "outputs": [
    {
     "data": {
      "text/plain": [
       "[1, 2, 3, 4, 5]"
      ]
     },
     "execution_count": 70,
     "metadata": {},
     "output_type": "execute_result"
    }
   ],
   "source": [
    "first_list"
   ]
  },
  {
   "cell_type": "code",
   "execution_count": 71,
   "metadata": {
    "collapsed": false
   },
   "outputs": [
    {
     "data": {
      "text/plain": [
       "[6, 7, 8, 9]"
      ]
     },
     "execution_count": 71,
     "metadata": {},
     "output_type": "execute_result"
    }
   ],
   "source": [
    "second_list"
   ]
  },
  {
   "cell_type": "code",
   "execution_count": 72,
   "metadata": {},
   "outputs": [
    {
     "data": {
      "text/plain": [
       "list"
      ]
     },
     "execution_count": 72,
     "metadata": {},
     "output_type": "execute_result"
    }
   ],
   "source": [
    "type(first_list)"
   ]
  },
  {
   "cell_type": "code",
   "execution_count": 73,
   "metadata": {
    "collapsed": false
   },
   "outputs": [
    {
     "data": {
      "text/plain": [
       "True"
      ]
     },
     "execution_count": 73,
     "metadata": {},
     "output_type": "execute_result"
    }
   ],
   "source": [
    "3 in first_list"
   ]
  },
  {
   "cell_type": "code",
   "execution_count": 74,
   "metadata": {
    "collapsed": false
   },
   "outputs": [
    {
     "data": {
      "text/plain": [
       "False"
      ]
     },
     "execution_count": 74,
     "metadata": {},
     "output_type": "execute_result"
    }
   ],
   "source": [
    "7 in first_list"
   ]
  },
  {
   "cell_type": "code",
   "execution_count": 75,
   "metadata": {
    "collapsed": false
   },
   "outputs": [
    {
     "data": {
      "text/plain": [
       "True"
      ]
     },
     "execution_count": 75,
     "metadata": {},
     "output_type": "execute_result"
    }
   ],
   "source": [
    "7 in second_list"
   ]
  },
  {
   "cell_type": "code",
   "execution_count": 76,
   "metadata": {
    "collapsed": false
   },
   "outputs": [
    {
     "data": {
      "text/plain": [
       "False"
      ]
     },
     "execution_count": 76,
     "metadata": {},
     "output_type": "execute_result"
    }
   ],
   "source": [
    "3 not in first_list"
   ]
  },
  {
   "cell_type": "code",
   "execution_count": 77,
   "metadata": {
    "collapsed": false
   },
   "outputs": [
    {
     "data": {
      "text/plain": [
       "[1, 2, 3, 4, 5, 6, 7, 8, 9]"
      ]
     },
     "execution_count": 77,
     "metadata": {},
     "output_type": "execute_result"
    }
   ],
   "source": [
    "first_list + second_list"
   ]
  },
  {
   "cell_type": "code",
   "execution_count": 78,
   "metadata": {
    "collapsed": false
   },
   "outputs": [
    {
     "name": "stdout",
     "output_type": "stream",
     "text": [
      "[1, 2, 3, 4, 5]\n"
     ]
    }
   ],
   "source": [
    "print(first_list)"
   ]
  },
  {
   "cell_type": "code",
   "execution_count": 79,
   "metadata": {
    "collapsed": false
   },
   "outputs": [
    {
     "name": "stdout",
     "output_type": "stream",
     "text": [
      "[6, 7, 8, 9]\n"
     ]
    }
   ],
   "source": [
    "print(second_list)"
   ]
  },
  {
   "cell_type": "code",
   "execution_count": 80,
   "metadata": {
    "collapsed": false
   },
   "outputs": [],
   "source": [
    "third_list = first_list + second_list"
   ]
  },
  {
   "cell_type": "code",
   "execution_count": 81,
   "metadata": {
    "collapsed": false
   },
   "outputs": [
    {
     "data": {
      "text/plain": [
       "[1, 2, 3, 4, 5, 6, 7, 8, 9]"
      ]
     },
     "execution_count": 81,
     "metadata": {},
     "output_type": "execute_result"
    }
   ],
   "source": [
    "third_list"
   ]
  },
  {
   "cell_type": "markdown",
   "metadata": {},
   "source": [
    "## Indexing & Slicing\n",
    "\n",
    "We can use square brackets to extract individual items from a list, or entire slices.  The format is exactly the same as we used for strings, but we will review it here.\n",
    "\n",
    "First, let's extract a single item from a list using its index."
   ]
  },
  {
   "cell_type": "code",
   "execution_count": 82,
   "metadata": {
    "collapsed": false
   },
   "outputs": [
    {
     "data": {
      "text/plain": [
       "2"
      ]
     },
     "execution_count": 82,
     "metadata": {},
     "output_type": "execute_result"
    }
   ],
   "source": [
    "third_list[1]"
   ]
  },
  {
   "cell_type": "markdown",
   "metadata": {},
   "source": [
    "Notice that, just like strings, we count the items in a list starting from zero. The first item is 0 and the second one is 1 and so on. The index represents the *offset* from the first position.\n",
    "\n",
    "That means that in order to get the first item, we have to use 0."
   ]
  },
  {
   "cell_type": "code",
   "execution_count": 83,
   "metadata": {
    "collapsed": false
   },
   "outputs": [
    {
     "data": {
      "text/plain": [
       "1"
      ]
     },
     "execution_count": 83,
     "metadata": {},
     "output_type": "execute_result"
    }
   ],
   "source": [
    "third_list[0]"
   ]
  },
  {
   "cell_type": "markdown",
   "metadata": {},
   "source": [
    "In order to get the first five items, we need to slice from 0 to 5 because a `slice` does not include the last value."
   ]
  },
  {
   "cell_type": "code",
   "execution_count": 84,
   "metadata": {
    "collapsed": false
   },
   "outputs": [
    {
     "data": {
      "text/plain": [
       "[1, 2, 3, 4, 5]"
      ]
     },
     "execution_count": 84,
     "metadata": {},
     "output_type": "execute_result"
    }
   ],
   "source": [
    "third_list[0:5]"
   ]
  },
  {
   "cell_type": "markdown",
   "metadata": {},
   "source": [
    "Get every third number from the list, starting at the first position."
   ]
  },
  {
   "cell_type": "code",
   "execution_count": 86,
   "metadata": {
    "collapsed": false
   },
   "outputs": [
    {
     "data": {
      "text/plain": [
       "[2, 5, 8]"
      ]
     },
     "execution_count": 86,
     "metadata": {},
     "output_type": "execute_result"
    }
   ],
   "source": [
    "third_list[1::3]"
   ]
  },
  {
   "cell_type": "code",
   "execution_count": 87,
   "metadata": {
    "collapsed": false
   },
   "outputs": [
    {
     "data": {
      "text/plain": [
       "[1, 2, 3, 4, 5]"
      ]
     },
     "execution_count": 87,
     "metadata": {},
     "output_type": "execute_result"
    }
   ],
   "source": [
    "third_list[:5]"
   ]
  },
  {
   "cell_type": "markdown",
   "metadata": {},
   "source": [
    "`[start:stop:step]`.\n",
    "\n",
    "Slicing a list will always create a new list."
   ]
  },
  {
   "cell_type": "code",
   "execution_count": 88,
   "metadata": {
    "collapsed": false
   },
   "outputs": [
    {
     "name": "stdout",
     "output_type": "stream",
     "text": [
      "9\n",
      "1\n",
      "9\n"
     ]
    }
   ],
   "source": [
    "print(len(third_list))\n",
    "print(min(third_list))\n",
    "print(max(third_list))"
   ]
  },
  {
   "cell_type": "markdown",
   "metadata": {},
   "source": [
    "We can also look through a list to locate an item.  To do this, we would use the `index` method. This will return the index of the first item in the list that matches what we are looking for."
   ]
  },
  {
   "cell_type": "markdown",
   "metadata": {},
   "source": [
    "The following is an example of trying to locate the number 3 in a list."
   ]
  },
  {
   "cell_type": "code",
   "execution_count": 90,
   "metadata": {
    "collapsed": false
   },
   "outputs": [],
   "source": [
    "my_list = [1,2,2,3,3,4,3]"
   ]
  },
  {
   "cell_type": "code",
   "execution_count": 91,
   "metadata": {
    "collapsed": false
   },
   "outputs": [
    {
     "data": {
      "text/plain": [
       "3"
      ]
     },
     "execution_count": 91,
     "metadata": {},
     "output_type": "execute_result"
    }
   ],
   "source": [
    "my_list.index(3)"
   ]
  },
  {
   "cell_type": "markdown",
   "metadata": {},
   "source": [
    "We can see that the first occurance of 3 is at index 3.  Once we get one value, we might want to get the next one. We can do this by setting the start and stop points of our index method. This means that Python will start searching at a certain start index and get everything up to (but not including) the stop index. These are *optional* values so they don't need to be supplied (as in the example above)."
   ]
  },
  {
   "cell_type": "markdown",
   "metadata": {},
   "source": [
    "With all these values, the index method looks like this: `index(value, start, stop)`."
   ]
  },
  {
   "cell_type": "code",
   "execution_count": 92,
   "metadata": {
    "collapsed": false
   },
   "outputs": [
    {
     "data": {
      "text/plain": [
       "4"
      ]
     },
     "execution_count": 92,
     "metadata": {},
     "output_type": "execute_result"
    }
   ],
   "source": [
    "my_list.index(3,4,6) # starts at index 4 and searches up to, but not including, index 6."
   ]
  },
  {
   "cell_type": "markdown",
   "metadata": {},
   "source": [
    "Now we can also get the counts of values in a list with the .count method; all we need to do is pass in the value that we want."
   ]
  },
  {
   "cell_type": "code",
   "execution_count": 94,
   "metadata": {
    "collapsed": false
   },
   "outputs": [
    {
     "data": {
      "text/plain": [
       "3"
      ]
     },
     "execution_count": 94,
     "metadata": {},
     "output_type": "execute_result"
    }
   ],
   "source": [
    "my_list.count(3)"
   ]
  },
  {
   "cell_type": "markdown",
   "metadata": {},
   "source": [
    "Remember that, with a few exceptions, every operation listed so far works on all sequences in Python. That includes lists, tuples, ranges, and strings, all of which we will discuss in more detail."
   ]
  },
  {
   "cell_type": "code",
   "execution_count": 95,
   "metadata": {
    "collapsed": false
   },
   "outputs": [
    {
     "data": {
      "text/plain": [
       "2"
      ]
     },
     "execution_count": 95,
     "metadata": {},
     "output_type": "execute_result"
    }
   ],
   "source": [
    "\"Eggs\".count(\"g\")"
   ]
  },
  {
   "cell_type": "code",
   "execution_count": 96,
   "metadata": {
    "collapsed": false
   },
   "outputs": [
    {
     "name": "stdout",
     "output_type": "stream",
     "text": [
      "[]\n"
     ]
    }
   ],
   "source": [
    "x = []\n",
    "print(x)"
   ]
  },
  {
   "cell_type": "code",
   "execution_count": 97,
   "metadata": {
    "collapsed": false
   },
   "outputs": [
    {
     "name": "stdout",
     "output_type": "stream",
     "text": [
      "[5]\n"
     ]
    }
   ],
   "source": [
    "x.append(5)\n",
    "print(x)"
   ]
  },
  {
   "cell_type": "code",
   "execution_count": 98,
   "metadata": {
    "collapsed": false
   },
   "outputs": [
    {
     "name": "stdout",
     "output_type": "stream",
     "text": [
      "[10]\n"
     ]
    }
   ],
   "source": [
    "x[0] = 10 # the zero indexed value\n",
    "print(x)"
   ]
  },
  {
   "cell_type": "code",
   "execution_count": 99,
   "metadata": {
    "collapsed": false
   },
   "outputs": [
    {
     "name": "stdout",
     "output_type": "stream",
     "text": [
      "[10, 12, 13]\n"
     ]
    }
   ],
   "source": [
    "x.extend([12,13])\n",
    "print(x)"
   ]
  },
  {
   "cell_type": "code",
   "execution_count": 100,
   "metadata": {
    "collapsed": false
   },
   "outputs": [
    {
     "name": "stdout",
     "output_type": "stream",
     "text": [
      "[15, 16, 13]\n"
     ]
    }
   ],
   "source": [
    "x[0:2] = [15,16]\n",
    "print(x)"
   ]
  },
  {
   "cell_type": "code",
   "execution_count": 101,
   "metadata": {
    "collapsed": false
   },
   "outputs": [
    {
     "name": "stdout",
     "output_type": "stream",
     "text": [
      "[15]\n"
     ]
    }
   ],
   "source": [
    "del x[1:3]\n",
    "print(x)"
   ]
  },
  {
   "cell_type": "code",
   "execution_count": 102,
   "metadata": {
    "collapsed": false
   },
   "outputs": [
    {
     "name": "stdout",
     "output_type": "stream",
     "text": [
      "[]\n"
     ]
    }
   ],
   "source": [
    "del x[0]\n",
    "print(x)"
   ]
  },
  {
   "cell_type": "markdown",
   "metadata": {},
   "source": [
    "We can also replace with steps, where we replace every second value, for example."
   ]
  },
  {
   "cell_type": "code",
   "execution_count": 103,
   "metadata": {
    "collapsed": false
   },
   "outputs": [
    {
     "name": "stdout",
     "output_type": "stream",
     "text": [
      "[1, 2, 3, 4, 5]\n"
     ]
    }
   ],
   "source": [
    "x = [1,2,3,4,5]\n",
    "print(x)"
   ]
  },
  {
   "cell_type": "code",
   "execution_count": 104,
   "metadata": {
    "collapsed": false
   },
   "outputs": [],
   "source": [
    "y = [10, 12]"
   ]
  },
  {
   "cell_type": "code",
   "execution_count": 105,
   "metadata": {
    "collapsed": false
   },
   "outputs": [
    {
     "name": "stdout",
     "output_type": "stream",
     "text": [
      "[1, 10, 3, 12, 5]\n"
     ]
    }
   ],
   "source": [
    "x[1:5:2] = y\n",
    "print(x)"
   ]
  },
  {
   "cell_type": "markdown",
   "metadata": {},
   "source": [
    "As you might have guessed, we can also delete by this as well."
   ]
  },
  {
   "cell_type": "code",
   "execution_count": 106,
   "metadata": {
    "collapsed": false
   },
   "outputs": [
    {
     "name": "stdout",
     "output_type": "stream",
     "text": [
      "[10, 12]\n"
     ]
    }
   ],
   "source": [
    "del x[0::2]\n",
    "print(x)"
   ]
  },
  {
   "cell_type": "markdown",
   "metadata": {},
   "source": [
    "In a more extreme example, we can actually clear out an entire list without having to know what is inside of it. We do that with the `.clear()` method."
   ]
  },
  {
   "cell_type": "code",
   "execution_count": 107,
   "metadata": {
    "collapsed": false
   },
   "outputs": [
    {
     "name": "stdout",
     "output_type": "stream",
     "text": [
      "[]\n"
     ]
    }
   ],
   "source": [
    "x.clear()\n",
    "print(x)"
   ]
  },
  {
   "cell_type": "markdown",
   "metadata": {},
   "source": [
    "We can also insert values at specific locations in lists. This makes it easy to prepend values to a list, or put them in the second slot of a list, and so on."
   ]
  },
  {
   "cell_type": "code",
   "execution_count": 108,
   "metadata": {
    "collapsed": false
   },
   "outputs": [
    {
     "name": "stdout",
     "output_type": "stream",
     "text": [
      "[12]\n",
      "[15, 12]\n",
      "[15, 500, 12]\n"
     ]
    }
   ],
   "source": [
    "x.insert(0, 12)\n",
    "print(x)\n",
    "x.insert(0, 15)\n",
    "print(x)\n",
    "x.insert(1,500)\n",
    "print(x)"
   ]
  },
  {
   "cell_type": "markdown",
   "metadata": {},
   "source": [
    "Lastly, it's a common operation to get the last value off of a list. We do this with the `pop` method. This will remove the value from the list."
   ]
  },
  {
   "cell_type": "code",
   "execution_count": 109,
   "metadata": {
    "collapsed": false
   },
   "outputs": [
    {
     "name": "stdout",
     "output_type": "stream",
     "text": [
      "12\n",
      "[15, 500]\n"
     ]
    }
   ],
   "source": [
    "last_val = x.pop()\n",
    "print(last_val)\n",
    "print(x)"
   ]
  },
  {
   "cell_type": "markdown",
   "metadata": {},
   "source": [
    "We can also pop a specific value if we want to, for example, if we want to pop the first value from the list. Again, this will remove that value from the list."
   ]
  },
  {
   "cell_type": "code",
   "execution_count": 110,
   "metadata": {
    "collapsed": false
   },
   "outputs": [
    {
     "name": "stdout",
     "output_type": "stream",
     "text": [
      "15\n",
      "[500]\n"
     ]
    }
   ],
   "source": [
    "first_val = x.pop(0)\n",
    "print(first_val)\n",
    "print(x)"
   ]
  },
  {
   "cell_type": "markdown",
   "metadata": {},
   "source": [
    "There is also a way to remove a specific value from a list with the `remove` method. However, just like `index`, which we learned in a previous IPython Notebook, it will only remove the first value."
   ]
  },
  {
   "cell_type": "code",
   "execution_count": 111,
   "metadata": {
    "collapsed": false
   },
   "outputs": [
    {
     "name": "stdout",
     "output_type": "stream",
     "text": [
      "[500, 600, 700, 800, 500]\n",
      "[600, 700, 800, 500]\n"
     ]
    }
   ],
   "source": [
    "x.extend([600,700,800, 500])\n",
    "print(x)\n",
    "x.remove(500)\n",
    "print(x)"
   ]
  },
  {
   "cell_type": "code",
   "execution_count": 112,
   "metadata": {
    "collapsed": false
   },
   "outputs": [
    {
     "name": "stdout",
     "output_type": "stream",
     "text": [
      "[500, 600, 700, 800]\n"
     ]
    }
   ],
   "source": [
    "x.sort()\n",
    "print(x)"
   ]
  },
  {
   "cell_type": "markdown",
   "metadata": {},
   "source": [
    "However, sometimes you will want a list reversed. The way to do this is extremely straightforward."
   ]
  },
  {
   "cell_type": "code",
   "execution_count": 113,
   "metadata": {
    "collapsed": false
   },
   "outputs": [
    {
     "name": "stdout",
     "output_type": "stream",
     "text": [
      "[800, 700, 600, 500]\n"
     ]
    }
   ],
   "source": [
    "x.reverse()\n",
    "print(x)"
   ]
  },
  {
   "cell_type": "markdown",
   "metadata": {},
   "source": [
    "# Tuples\n",
    "\n",
    "We've seen that lists are mutable objects, and this ability to change their contents makes them an extremely useful tool. Now let's talk about tuples. These are the immutable cousin of lists; once we make them, we cannot go back and change them.\n",
    "\n",
    "We can tell a tuple is different from a list because a tuple is surrounded by parentheses instead of brackets."
   ]
  },
  {
   "cell_type": "code",
   "execution_count": 114,
   "metadata": {
    "collapsed": false
   },
   "outputs": [],
   "source": [
    "x = (1,2,3)"
   ]
  },
  {
   "cell_type": "code",
   "execution_count": 115,
   "metadata": {
    "collapsed": false
   },
   "outputs": [
    {
     "name": "stdout",
     "output_type": "stream",
     "text": [
      "3\n"
     ]
    }
   ],
   "source": [
    "print(max(x))"
   ]
  },
  {
   "cell_type": "code",
   "execution_count": 116,
   "metadata": {
    "collapsed": false
   },
   "outputs": [
    {
     "name": "stdout",
     "output_type": "stream",
     "text": [
      "1\n"
     ]
    }
   ],
   "source": [
    "print(x[0])"
   ]
  },
  {
   "cell_type": "code",
   "execution_count": 117,
   "metadata": {
    "collapsed": false
   },
   "outputs": [
    {
     "name": "stdout",
     "output_type": "stream",
     "text": [
      "(1, 3)\n"
     ]
    }
   ],
   "source": [
    "print(x[0::2])"
   ]
  },
  {
   "cell_type": "markdown",
   "metadata": {},
   "source": [
    "Notice how that last line returned a new tuple instead of a list.\n",
    "\n",
    "We can concatenate tuples using the plus operator. Note that this does not change the original tuples; they're immutable. Instead, it creates a new tuple object."
   ]
  },
  {
   "cell_type": "code",
   "execution_count": 118,
   "metadata": {
    "collapsed": false
   },
   "outputs": [
    {
     "name": "stdout",
     "output_type": "stream",
     "text": [
      "(1, 2, 3)\n"
     ]
    }
   ],
   "source": [
    "print(x)"
   ]
  },
  {
   "cell_type": "code",
   "execution_count": 119,
   "metadata": {
    "collapsed": false
   },
   "outputs": [
    {
     "name": "stdout",
     "output_type": "stream",
     "text": [
      "(1, 2, 3, 10, 12, 15)\n"
     ]
    }
   ],
   "source": [
    "x = x + (10,12,15)\n",
    "print(x)"
   ]
  },
  {
   "cell_type": "code",
   "execution_count": 120,
   "metadata": {
    "collapsed": false
   },
   "outputs": [],
   "source": [
    "x = x + x[::2]"
   ]
  },
  {
   "cell_type": "code",
   "execution_count": 121,
   "metadata": {
    "collapsed": false
   },
   "outputs": [
    {
     "name": "stdout",
     "output_type": "stream",
     "text": [
      "(1, 2, 3, 10, 12, 15, 1, 3, 12)\n"
     ]
    }
   ],
   "source": [
    "print(x)"
   ]
  },
  {
   "cell_type": "markdown",
   "metadata": {},
   "source": [
    "You can create a tuple from a list using the tuple constructor."
   ]
  },
  {
   "cell_type": "code",
   "execution_count": 122,
   "metadata": {
    "collapsed": false
   },
   "outputs": [],
   "source": [
    "my_list = [1,2,3]"
   ]
  },
  {
   "cell_type": "code",
   "execution_count": 123,
   "metadata": {
    "collapsed": false
   },
   "outputs": [
    {
     "name": "stdout",
     "output_type": "stream",
     "text": [
      "(1, 2, 3)\n"
     ]
    }
   ],
   "source": [
    "print(tuple(my_list))"
   ]
  },
  {
   "cell_type": "markdown",
   "metadata": {},
   "source": [
    "You can also do the opposite: create a list from a tuple."
   ]
  },
  {
   "cell_type": "code",
   "execution_count": 124,
   "metadata": {
    "collapsed": false
   },
   "outputs": [
    {
     "name": "stdout",
     "output_type": "stream",
     "text": [
      "[1, 2, 3, 10, 12, 15, 1, 3, 12]\n"
     ]
    }
   ],
   "source": [
    "print(list(x))"
   ]
  },
  {
   "cell_type": "code",
   "execution_count": 125,
   "metadata": {
    "collapsed": false
   },
   "outputs": [
    {
     "name": "stdout",
     "output_type": "stream",
     "text": [
      "good\n",
      "['g', 'o', 'o', 'd', 'b', 'y', 'e']\n",
      "gobe\n"
     ]
    }
   ],
   "source": [
    "x = \"goodbye\"\n",
    "print(x[0:4])\n",
    "print(list(x))\n",
    "print(x[::2])"
   ]
  },
  {
   "cell_type": "markdown",
   "metadata": {},
   "source": [
    "You may be wondering why you would use tuples when lists have the added advantage of mutability. In fact, lists are used more often, but there are times when you will need an immutable data structure. When we discuss dictionaries later in the course, for example, you will see that the keys to a dictionary must be immutable objects. Tuples are also an elegant way to assign values to multiple variables."
   ]
  },
  {
   "cell_type": "markdown",
   "metadata": {},
   "source": [
    "## Conditionals\n",
    "\n",
    "The first control structure we will examine is the `if` statement. The `if` statement allows us to make choices about which statements we want to execute. Here is a simple example."
   ]
  },
  {
   "cell_type": "code",
   "execution_count": 126,
   "metadata": {
    "collapsed": false
   },
   "outputs": [
    {
     "name": "stdin",
     "output_type": "stream",
     "text": [
      "Enter an integer:  10\n"
     ]
    },
    {
     "name": "stdout",
     "output_type": "stream",
     "text": [
      "Even\n"
     ]
    }
   ],
   "source": [
    "x = int(input(\"Enter an integer: \"))\n",
    "if x%2 == 0:\n",
    "    print(\"Even\")"
   ]
  },
  {
   "cell_type": "markdown",
   "metadata": {},
   "source": [
    "Notice that the `if` keyword is followed by a conditional expression that evaluated to True or False, which is then followed by a colon.  The print statement is indented, which alerts us to the fact that it will only be executed if the `if` condition is True.  Try inputting different values, and note that the print statement only executes if the number you type is even.\n",
    "\n",
    "The `if` statement can be extended using the `else` keyword.  This combination allows us to choose between one set of statements and another."
   ]
  },
  {
   "cell_type": "code",
   "execution_count": 127,
   "metadata": {
    "collapsed": false
   },
   "outputs": [
    {
     "name": "stdin",
     "output_type": "stream",
     "text": [
      "Enter an integer:  10\n"
     ]
    },
    {
     "name": "stdout",
     "output_type": "stream",
     "text": [
      "Even\n"
     ]
    }
   ],
   "source": [
    "x = int(input(\"Enter an integer: \"))\n",
    "if x%2 == 0:\n",
    "    print(\"Even\")\n",
    "else:\n",
    "    print(\"Odd\")\n",
    "    print(\"Still in else suite\")"
   ]
  },
  {
   "cell_type": "markdown",
   "metadata": {},
   "source": [
    "For more elaborate choices, we may want to nest `if` statements inside each other."
   ]
  },
  {
   "cell_type": "code",
   "execution_count": 4,
   "metadata": {
    "collapsed": false
   },
   "outputs": [
    {
     "name": "stdout",
     "output_type": "stream",
     "text": [
      "Enter an integer: 35\n"
     ]
    }
   ],
   "source": [
    "x = int(input(\"Enter an integer: \"))\n",
    "if x%2 == 0:\n",
    "    print(\"Even\")\n",
    "    if x>10:\n",
    "        print(\"and bigger than 10\")\n",
    "    else:\n",
    "        print(\"but smaller than 10\")"
   ]
  },
  {
   "cell_type": "markdown",
   "metadata": {},
   "source": [
    "What would happen if you take away the indention for the inner if-else statement?"
   ]
  },
  {
   "cell_type": "markdown",
   "metadata": {},
   "source": [
    "Here's another example, in which nested `if` statements are used to select a letter grade."
   ]
  },
  {
   "cell_type": "code",
   "execution_count": 5,
   "metadata": {
    "collapsed": false
   },
   "outputs": [
    {
     "name": "stdout",
     "output_type": "stream",
     "text": [
      "Enter your grade: 92\n",
      "You got an A!\n",
      "congratulations!\n"
     ]
    }
   ],
   "source": [
    "x = int(input(\"Enter your grade: \"))\n",
    "if x >= 90:\n",
    "    print(\"You got an A!\")\n",
    "    print(\"congratulations!\")\n",
    "else:\n",
    "    if x>=80:\n",
    "        print(\"you got a B!\")\n",
    "    else:\n",
    "        print(\"Too bad. Better luck next time.\")"
   ]
  },
  {
   "cell_type": "markdown",
   "metadata": {},
   "source": [
    "In this case, we can simplify our `if` statements by using the `elif` keyword, which stands for `else if`. The previous code can be rewritten as shown below."
   ]
  },
  {
   "cell_type": "code",
   "execution_count": 8,
   "metadata": {
    "collapsed": false
   },
   "outputs": [
    {
     "name": "stdout",
     "output_type": "stream",
     "text": [
      "Enter your grade: 5\n",
      "Too bad. Better luck next time.\n"
     ]
    }
   ],
   "source": [
    "x = int(input(\"Enter your grade: \"))\n",
    "if x >= 90:\n",
    "    print(\"You got an A!\")\n",
    "    print(\"congratulations!\")\n",
    "elif x>=80:\n",
    "    print(\"you got a B!\")\n",
    "else:\n",
    "    print(\"Too bad. Better luck next time.\")"
   ]
  },
  {
   "cell_type": "markdown",
   "metadata": {},
   "source": [
    "An `if`clause can be followed by any number of `elif` keywords and can have up to one `else` clause at the end.  No more than one of the code suites gets executed."
   ]
  },
  {
   "cell_type": "markdown",
   "metadata": {},
   "source": [
    "# Ranges\n",
    "\n",
    "Suppose we want to list the numbers from 0 to 9 in order. There are many reasons we might need to do this: we might need to number observations in a data set, we might want to sum them together, or we might want to repeat an action 10 times and keep track of how many times we have done it. Python provides a handy sequence type that makes this easy: the range."
   ]
  },
  {
   "cell_type": "code",
   "execution_count": 128,
   "metadata": {
    "collapsed": false
   },
   "outputs": [
    {
     "name": "stdout",
     "output_type": "stream",
     "text": [
      "range(0, 10)\n"
     ]
    }
   ],
   "source": [
    "x = range(10)\n",
    "print(x)"
   ]
  },
  {
   "cell_type": "markdown",
   "metadata": {},
   "source": [
    "We can see how the range behaves if we convert it to a list."
   ]
  },
  {
   "cell_type": "code",
   "execution_count": 129,
   "metadata": {
    "collapsed": false
   },
   "outputs": [
    {
     "data": {
      "text/plain": [
       "[0, 1, 2, 3, 4, 5, 6, 7, 8, 9]"
      ]
     },
     "execution_count": 129,
     "metadata": {},
     "output_type": "execute_result"
    }
   ],
   "source": [
    "list(x)"
   ]
  },
  {
   "cell_type": "markdown",
   "metadata": {},
   "source": [
    "Ranges don't have to start at 0; they can have a start and stop as well as a step. It is good to practice using these parameters."
   ]
  },
  {
   "cell_type": "code",
   "execution_count": 130,
   "metadata": {
    "collapsed": false
   },
   "outputs": [],
   "source": [
    "start = 0\n",
    "stop = 10\n",
    "step = 1"
   ]
  },
  {
   "cell_type": "code",
   "execution_count": 131,
   "metadata": {
    "collapsed": false
   },
   "outputs": [
    {
     "name": "stdout",
     "output_type": "stream",
     "text": [
      "[0, 1, 2, 3, 4, 5, 6, 7, 8, 9]\n"
     ]
    }
   ],
   "source": [
    "print(list(range(start, stop, step)))"
   ]
  },
  {
   "cell_type": "code",
   "execution_count": 132,
   "metadata": {
    "collapsed": false
   },
   "outputs": [
    {
     "name": "stdout",
     "output_type": "stream",
     "text": [
      "[0, 5]\n"
     ]
    }
   ],
   "source": [
    "step = 5\n",
    "print(list(range(start, stop, step)))"
   ]
  },
  {
   "cell_type": "code",
   "execution_count": 133,
   "metadata": {
    "collapsed": false
   },
   "outputs": [
    {
     "name": "stdout",
     "output_type": "stream",
     "text": [
      "[0, 10, 20, 30, 40, 50, 60, 70, 80, 90]\n"
     ]
    }
   ],
   "source": [
    "stop = 100\n",
    "step = 10\n",
    "print(list(range(start, stop, step)))"
   ]
  },
  {
   "cell_type": "markdown",
   "metadata": {},
   "source": [
    "Keep in mind that the stop is always exclusive; that means that the range does not include the stop number, but it does include the start number. If we actually wanted the numbers from 0 to 100 in steps of 10, we would need to increase the stop by 1."
   ]
  },
  {
   "cell_type": "code",
   "execution_count": 134,
   "metadata": {
    "collapsed": false
   },
   "outputs": [
    {
     "name": "stdout",
     "output_type": "stream",
     "text": [
      "[0, 10, 20, 30, 40, 50, 60, 70, 80, 90, 100]\n"
     ]
    }
   ],
   "source": [
    "stop += 1\n",
    "print(list(range(start, stop, step)))"
   ]
  },
  {
   "cell_type": "code",
   "execution_count": 135,
   "metadata": {
    "collapsed": false
   },
   "outputs": [
    {
     "data": {
      "text/plain": [
       "range(0, 10)"
      ]
     },
     "execution_count": 135,
     "metadata": {},
     "output_type": "execute_result"
    }
   ],
   "source": [
    "x"
   ]
  },
  {
   "cell_type": "code",
   "execution_count": 136,
   "metadata": {
    "collapsed": false
   },
   "outputs": [
    {
     "name": "stdout",
     "output_type": "stream",
     "text": [
      "True\n",
      "2\n",
      "False\n"
     ]
    }
   ],
   "source": [
    "print(5 in x)\n",
    "print(x.index(2))\n",
    "print(15 in x)"
   ]
  },
  {
   "cell_type": "markdown",
   "metadata": {},
   "source": [
    "# Dictionaries\n",
    "\n",
    "A dictionary is an important Python type that gives us a rather different way of organizing objects.  Let's say that we wanted to store a set of definitions for words.  We could create a python dictionary as follows."
   ]
  },
  {
   "cell_type": "code",
   "execution_count": 137,
   "metadata": {
    "collapsed": false
   },
   "outputs": [
    {
     "name": "stdout",
     "output_type": "stream",
     "text": [
      "{'do': 'a deer', 're': 'a drop', 'me': 'a name'}\n"
     ]
    }
   ],
   "source": [
    "a = {'do': 'a deer', 're': 'a drop', 'me': 'a name'}\n",
    "print(a)"
   ]
  },
  {
   "cell_type": "markdown",
   "metadata": {},
   "source": [
    "You can see that the dictionary contains pairs.  First we have a set of objects we call keys.  These are `do`, `re`, and `me`.  For each key, the dictionary stores another object called a value.  The main function of a dictionary is to map keys to values.  \n",
    "\n",
    "A dictionary is an implementation of a *map* or a *key-value store*.\n",
    "\n",
    "Remember that a Python sequence also stores values.  But a dictionary can hold objects that do not have a natural ordering: when there is no obvious object to call number 0, or number 1, and so forth. Notice that when our example dictionary was printed back out, the order of the values was changed.   This is because dictionaries aren't suppose to worry about the order of values - they is no natural order.\n",
    "\n",
    "We can confirm this by creating our dictionary with the key value pairs in a different order.  The resulting dictionary is the same."
   ]
  },
  {
   "cell_type": "code",
   "execution_count": 138,
   "metadata": {
    "collapsed": false
   },
   "outputs": [
    {
     "name": "stdout",
     "output_type": "stream",
     "text": [
      "True\n"
     ]
    }
   ],
   "source": [
    "b = {'re': 'a drop', 'me': 'a name', 'do': 'a deer'}\n",
    "print(a == b)"
   ]
  },
  {
   "cell_type": "markdown",
   "metadata": {},
   "source": [
    "Since a value doesn't have a position in a dictionary, we need another way to access it, and that way is with a key.  The key is what lets us get to a particular value in a dictionary.  We want to know what the definition of `me` is.  Here, `me` is the key, and its definition is the corresponding value.  We access it as follows."
   ]
  },
  {
   "cell_type": "code",
   "execution_count": 139,
   "metadata": {
    "collapsed": false
   },
   "outputs": [
    {
     "data": {
      "text/plain": [
       "'a name'"
      ]
     },
     "execution_count": 139,
     "metadata": {},
     "output_type": "execute_result"
    }
   ],
   "source": [
    "a['me']"
   ]
  },
  {
   "cell_type": "markdown",
   "metadata": {},
   "source": [
    "Before we continue, there are other ways to create a dictionary.  We could use the dict constructor, which will try to intelligently convert the arguments we give it into a dictionary."
   ]
  },
  {
   "cell_type": "code",
   "execution_count": 140,
   "metadata": {
    "collapsed": false
   },
   "outputs": [],
   "source": [
    "c = dict(do='a deer', re = 'a drop', me = 'a name')\n",
    "d = dict([('do', 'a deer'), ('re', 'a drop'), ('me', 'a name')])"
   ]
  },
  {
   "cell_type": "markdown",
   "metadata": {},
   "source": [
    "You will see that all of the dictionaries we created so far are equal, even though we created them in different ways."
   ]
  },
  {
   "cell_type": "code",
   "execution_count": 141,
   "metadata": {
    "collapsed": false
   },
   "outputs": [
    {
     "data": {
      "text/plain": [
       "True"
      ]
     },
     "execution_count": 141,
     "metadata": {},
     "output_type": "execute_result"
    }
   ],
   "source": [
    "a == b == c == d"
   ]
  },
  {
   "cell_type": "markdown",
   "metadata": {},
   "source": [
    "Manipulating dictionaries is pretty straightforward. To insert or access a value, place its key inside square brackets.  This looks similar to the way we access objects in a list, except the key takes the place of an integer index.\n",
    "\n",
    "For a second example, we will create a dictionary to represent a Rolodex. The keys will be phone numbers and the values will be names. We will start by creating an empty dictionary, then inserting two values."
   ]
  },
  {
   "cell_type": "code",
   "execution_count": 142,
   "metadata": {
    "collapsed": false
   },
   "outputs": [
    {
     "name": "stdout",
     "output_type": "stream",
     "text": [
      "{5563321: 'Mary', 8884433: 'John'}\n"
     ]
    }
   ],
   "source": [
    "rolodex = {}\n",
    "rolodex[5563321] = \"Mary\"\n",
    "rolodex[8884433] = \"John\"\n",
    "print(rolodex)"
   ]
  },
  {
   "cell_type": "markdown",
   "metadata": {},
   "source": [
    "Now when we receive a phone call and we want to see who it is, we just enter in the phone number in the same format."
   ]
  },
  {
   "cell_type": "code",
   "execution_count": 143,
   "metadata": {
    "collapsed": false
   },
   "outputs": [
    {
     "name": "stdout",
     "output_type": "stream",
     "text": [
      "Mary\n"
     ]
    }
   ],
   "source": [
    "print(rolodex[5563321])"
   ]
  },
  {
   "cell_type": "markdown",
   "metadata": {},
   "source": [
    "What happens if we were to enter another number or if we tried to pull out a key that was not there?"
   ]
  },
  {
   "cell_type": "code",
   "execution_count": 144,
   "metadata": {
    "collapsed": false
   },
   "outputs": [
    {
     "ename": "KeyError",
     "evalue": "3331212",
     "output_type": "error",
     "traceback": [
      "\u001b[1;31m---------------------------------------------------------------------------\u001b[0m",
      "\u001b[1;31mKeyError\u001b[0m                                  Traceback (most recent call last)",
      "\u001b[1;32m<ipython-input-144-e0945f0479eb>\u001b[0m in \u001b[0;36m<module>\u001b[1;34m\u001b[0m\n\u001b[1;32m----> 1\u001b[1;33m \u001b[0mrolodex\u001b[0m\u001b[1;33m[\u001b[0m\u001b[1;36m3331212\u001b[0m\u001b[1;33m]\u001b[0m\u001b[1;33m\u001b[0m\u001b[1;33m\u001b[0m\u001b[0m\n\u001b[0m",
      "\u001b[1;31mKeyError\u001b[0m: 3331212"
     ]
    }
   ],
   "source": [
    "rolodex[3331212]"
   ]
  },
  {
   "cell_type": "markdown",
   "metadata": {},
   "source": [
    "We got a KeyError because that key does not exist. Obviously the keys are an important part of every dictionary; if you lose them, you could be in trouble.\n",
    "\n",
    "We can delete values in a dictionary, much as we deleted objects in a list, simply using the key in place of an integer index."
   ]
  },
  {
   "cell_type": "code",
   "execution_count": 145,
   "metadata": {
    "collapsed": false
   },
   "outputs": [],
   "source": [
    "del rolodex[5563321]"
   ]
  },
  {
   "cell_type": "code",
   "execution_count": 146,
   "metadata": {
    "collapsed": false
   },
   "outputs": [
    {
     "name": "stdout",
     "output_type": "stream",
     "text": [
      "{8884433: 'John'}\n"
     ]
    }
   ],
   "source": [
    "print(rolodex)"
   ]
  },
  {
   "cell_type": "markdown",
   "metadata": {},
   "source": [
    "We can also use the `pop` method that we learned with lists as well. It allows us to remove a certain key. If that key does not exist, then we can set a default value."
   ]
  },
  {
   "cell_type": "code",
   "execution_count": 147,
   "metadata": {
    "collapsed": false
   },
   "outputs": [
    {
     "data": {
      "text/plain": [
       "'John'"
      ]
     },
     "execution_count": 147,
     "metadata": {},
     "output_type": "execute_result"
    }
   ],
   "source": [
    "rolodex.pop(8884433, \"Not in rolodex\")"
   ]
  },
  {
   "cell_type": "code",
   "execution_count": 148,
   "metadata": {
    "collapsed": false
   },
   "outputs": [
    {
     "data": {
      "text/plain": [
       "'Not in rolodex'"
      ]
     },
     "execution_count": 148,
     "metadata": {},
     "output_type": "execute_result"
    }
   ],
   "source": [
    "rolodex.pop(2223456, \"Not in rolodex\")"
   ]
  },
  {
   "cell_type": "markdown",
   "metadata": {},
   "source": [
    "We can also get the number of keys in the dictionary using the `len` command."
   ]
  },
  {
   "cell_type": "code",
   "execution_count": 149,
   "metadata": {
    "collapsed": false
   },
   "outputs": [
    {
     "data": {
      "text/plain": [
       "0"
      ]
     },
     "execution_count": 149,
     "metadata": {},
     "output_type": "execute_result"
    }
   ],
   "source": [
    "len(rolodex)"
   ]
  },
  {
   "cell_type": "markdown",
   "metadata": {},
   "source": [
    "With dictionaries the values can be basically any type. They can be lists, tuples, or other dictionaries. The rules for keys, however, are more restrictive. Keys must be immutable objects. That means that tuples can be dictionary keys, but lists cannot. This is because of the way dictionaries are implemented in Python.  \n",
    "\n",
    "Dictionaries use an underlying data structure called a hash table. As you will learn in your data structures course, the amazing thing about hash tables is that adding or finding a value takes roughly the same amount of time, no matter how many objects are in the table. But hash tables use a mathematical function called a *hash* to process each key, and the keys must be immutable for the hash to yield the same results over time."
   ]
  },
  {
   "cell_type": "markdown",
   "metadata": {},
   "source": [
    "Here is another example, in which we use a dictionary to translate from English to another language. We can use strings as keys because strings are immutable."
   ]
  },
  {
   "cell_type": "code",
   "execution_count": 150,
   "metadata": {
    "collapsed": false
   },
   "outputs": [],
   "source": [
    "eng = {\"Hi\": [\"Hai\", \"Ohhai\"], \"Bye\": \"Bai\"}"
   ]
  },
  {
   "cell_type": "code",
   "execution_count": 151,
   "metadata": {
    "collapsed": false
   },
   "outputs": [
    {
     "name": "stdout",
     "output_type": "stream",
     "text": [
      "{'Hi': ['Hai', 'Ohhai'], 'Bye': 'Bai'}\n"
     ]
    }
   ],
   "source": [
    "print(eng)"
   ]
  },
  {
   "cell_type": "code",
   "execution_count": 152,
   "metadata": {
    "collapsed": false
   },
   "outputs": [],
   "source": [
    "eng['Bye'] = {\"Formal\":\"BuhBai\",\"Informal\":\"Bai\"}"
   ]
  },
  {
   "cell_type": "code",
   "execution_count": 153,
   "metadata": {
    "collapsed": false
   },
   "outputs": [
    {
     "data": {
      "text/plain": [
       "{'Hi': ['Hai', 'Ohhai'], 'Bye': {'Formal': 'BuhBai', 'Informal': 'Bai'}}"
      ]
     },
     "execution_count": 153,
     "metadata": {},
     "output_type": "execute_result"
    }
   ],
   "source": [
    "eng"
   ]
  },
  {
   "cell_type": "markdown",
   "metadata": {},
   "source": [
    "In this example, we used a dictionary to store another dictionary.  \n",
    "\n",
    "We can use the `in` operator to see if a key is in the dictionary.  We may want to do this before we try retrieving the value."
   ]
  },
  {
   "cell_type": "code",
   "execution_count": 154,
   "metadata": {
    "collapsed": false
   },
   "outputs": [
    {
     "data": {
      "text/plain": [
       "True"
      ]
     },
     "execution_count": 154,
     "metadata": {},
     "output_type": "execute_result"
    }
   ],
   "source": [
    "\"Hi\" in eng"
   ]
  },
  {
   "cell_type": "code",
   "execution_count": 155,
   "metadata": {
    "collapsed": false
   },
   "outputs": [
    {
     "data": {
      "text/plain": [
       "True"
      ]
     },
     "execution_count": 155,
     "metadata": {},
     "output_type": "execute_result"
    }
   ],
   "source": [
    "\"Thank you\" not in eng"
   ]
  },
  {
   "cell_type": "markdown",
   "metadata": {},
   "source": [
    "Much like lists, dictionaries can be copied using the `copy` method. However, we remember that this creates a `shallow copy`, so we have to pay attention when we mutate objects in the dictionaries."
   ]
  },
  {
   "cell_type": "code",
   "execution_count": 156,
   "metadata": {
    "collapsed": false
   },
   "outputs": [],
   "source": [
    "eng_copy = eng.copy()"
   ]
  },
  {
   "cell_type": "code",
   "execution_count": 157,
   "metadata": {
    "collapsed": false
   },
   "outputs": [
    {
     "data": {
      "text/plain": [
       "{'Hi': ['Hai', 'Ohhai'], 'Bye': {'Formal': 'BuhBai', 'Informal': 'Bai'}}"
      ]
     },
     "execution_count": 157,
     "metadata": {},
     "output_type": "execute_result"
    }
   ],
   "source": [
    "eng_copy"
   ]
  },
  {
   "cell_type": "code",
   "execution_count": 158,
   "metadata": {
    "collapsed": false
   },
   "outputs": [],
   "source": [
    "eng_copy['Bye'].clear()"
   ]
  },
  {
   "cell_type": "code",
   "execution_count": 159,
   "metadata": {
    "collapsed": false
   },
   "outputs": [
    {
     "name": "stdout",
     "output_type": "stream",
     "text": [
      "{'Hi': ['Hai', 'Ohhai'], 'Bye': {}}\n"
     ]
    }
   ],
   "source": [
    "print(eng)"
   ]
  },
  {
   "cell_type": "markdown",
   "metadata": {},
   "source": [
    "The `clear` method removes all key-value pairs from a dictionary. In this case we have applied it to the dictionary object that is stored in `eng_copy`. This is the same object that is stored in `eng`, so `eng` shows an empty dictionary when we print it."
   ]
  },
  {
   "cell_type": "markdown",
   "metadata": {},
   "source": [
    "One of the most helpful dictionary methods is the `get` method.  This method attempts to retrieve a value based on a key, but it allows us to set a default value as well.  This means that if a key we want is not in the dictionary, we will get the default value back. Here we try to get a foreign language phrase back from our translation dictionary, but we include a helpful error message in case the phrase is not in the dictionary."
   ]
  },
  {
   "cell_type": "code",
   "execution_count": 160,
   "metadata": {
    "collapsed": false
   },
   "outputs": [
    {
     "data": {
      "text/plain": [
       "'Phrase not in dictionary'"
      ]
     },
     "execution_count": 160,
     "metadata": {},
     "output_type": "execute_result"
    }
   ],
   "source": [
    "eng.get(\"How are you?\", \"Phrase not in dictionary\")"
   ]
  },
  {
   "cell_type": "markdown",
   "metadata": {},
   "source": [
    "At times, you may need to get all the keys and values in a dictionary. We have a variety of methods to help us out with this."
   ]
  },
  {
   "cell_type": "code",
   "execution_count": 161,
   "metadata": {
    "collapsed": false
   },
   "outputs": [
    {
     "data": {
      "text/plain": [
       "dict_keys(['Hi', 'Bye'])"
      ]
     },
     "execution_count": 161,
     "metadata": {},
     "output_type": "execute_result"
    }
   ],
   "source": [
    "eng.keys()"
   ]
  },
  {
   "cell_type": "code",
   "execution_count": 162,
   "metadata": {
    "collapsed": false
   },
   "outputs": [
    {
     "data": {
      "text/plain": [
       "dict_values([['Hai', 'Ohhai'], {}])"
      ]
     },
     "execution_count": 162,
     "metadata": {},
     "output_type": "execute_result"
    }
   ],
   "source": [
    "eng.values()"
   ]
  },
  {
   "cell_type": "markdown",
   "metadata": {},
   "source": [
    "If we want to see all the keys paired with all the values, we can use the `items()` method."
   ]
  },
  {
   "cell_type": "code",
   "execution_count": 163,
   "metadata": {
    "collapsed": false
   },
   "outputs": [
    {
     "data": {
      "text/plain": [
       "dict_items([('Hi', ['Hai', 'Ohhai']), ('Bye', {})])"
      ]
     },
     "execution_count": 163,
     "metadata": {},
     "output_type": "execute_result"
    }
   ],
   "source": [
    "eng_copy.items()"
   ]
  },
  {
   "cell_type": "markdown",
   "metadata": {},
   "source": [
    "If we want to merge two dictionaries together, we could use the `update` method.  Note that this will overwrite any keys that are shared by the dictionaries."
   ]
  },
  {
   "cell_type": "code",
   "execution_count": 164,
   "metadata": {
    "collapsed": false
   },
   "outputs": [],
   "source": [
    "eng_copy.update({\"Thank you\":\"Much Thx\"})"
   ]
  },
  {
   "cell_type": "code",
   "execution_count": 165,
   "metadata": {
    "collapsed": false
   },
   "outputs": [
    {
     "data": {
      "text/plain": [
       "{'Hi': ['Hai', 'Ohhai'], 'Bye': {}, 'Thank you': 'Much Thx'}"
      ]
     },
     "execution_count": 165,
     "metadata": {},
     "output_type": "execute_result"
    }
   ],
   "source": [
    "eng_copy"
   ]
  },
  {
   "cell_type": "markdown",
   "metadata": {},
   "source": [
    "At this point, we have introduced the most important of dictionary methods. We have seen different ways to create a dictionary, to add values, and to retrieve values. Under the hood, the hash table that the Python dictionary is based on is a vastly important and fascinating data structure. You will learn more about it in your data structures course, and this will help you use dictionaries even more effectively."
   ]
  },
  {
   "cell_type": "markdown",
   "metadata": {},
   "source": [
    "# Algorithms\n",
    "\n",
    "Let's return to the idea of an algorithm. We already mentioned that an algorithm is the abstract set of steps a program will execute, as separate from the specific language it is written in. In another, slightly different, sense an algorithm is a plan for solving a specific problem. Computer scientists study all kinds of problems. Some of these are big problems with clear applications to data science. For example, how do you approximate the solution to a linear regression for a large data set? Other problems are more foundational in nature. Here let's consider the problem of how to find the square root of a positive number, $x$. Of course, in Python you can just type in $x$^$0.5$, but let's pretend we do not know that (or we can pretend that we are trying to write an interpreter that knows how to take square roots).\n",
    "\n",
    "It is worth noting that we can never find the square root of a number exactly because square roots usually do not terminate; it would take an infinite number of digits to write them down.  Because of this, all we can really hope for is to find a number *close* to the square root of $x$.  In particular, we can choose a small epsilon (say, 0.00001), and try to find a number that is less than epsilon away from the square root of $x$.\n",
    "\n",
    "## Exhaustive Search\n",
    "\n",
    "Previously, we used an algorithm to check if an integer is a perfect square. We started with a guess of zero and increased it by one until the square of our guess was as large as the input.  One idea is to adapt this algorithm to find the square root of any number. Of course, that algorithm only searched through the integers, so we will have to take smaller steps if we want to find the square root of any number.\n",
    "\n",
    "To refactor our algorithm, we will start with a guess of zero and add epsilon in each step. This will guarantee that the answer we get is within epsilon of the actual square root.\n",
    "\n",
    "Try finding the square root of 10 with this algorithm."
   ]
  },
  {
   "cell_type": "code",
   "execution_count": 168,
   "metadata": {
    "collapsed": false
   },
   "outputs": [
    {
     "name": "stdin",
     "output_type": "stream",
     "text": [
      "enter a number:  12\n"
     ]
    },
    {
     "name": "stdout",
     "output_type": "stream",
     "text": [
      "number of guesses = 346411\n",
      "3.4641100000142266 is close to square root of 12.0\n"
     ]
    }
   ],
   "source": [
    "## Exhuastive Search to Find a Square Root\n",
    "\n",
    "x = float(input(\"enter a number: \"))\n",
    "epsilon = 0.00001\n",
    "num_guesses = 0\n",
    "ans = 0.0\n",
    "while ans * ans <= x:\n",
    "    ans += epsilon\n",
    "    num_guesses += 1\n",
    "print('number of guesses =', num_guesses)\n",
    "print(ans, 'is close to square root of', x)"
   ]
  },
  {
   "cell_type": "markdown",
   "metadata": {},
   "source": [
    "You can check that the answer is indeed close to the square root of 10.  Now try the program on a large number, say 12345.  How long does it take?\n",
    "\n",
    "This is an example of a *brute force algorithm*. It searches through all possible solutions until the right one is found. You can see that the brute force algorithm will always find the answer, but it can take a rather long time.\n",
    "\n",
    "Depite this, there are many times in programming when you will want to use a brute force algorithm. It could be that you know the number of possible solutions is small, so the brute force algorithm will work in a reasonable time. Brute force algorithms are also very simple.  Finally, it could just be that the problem space is unstructured and there is no better choice available."
   ]
  },
  {
   "cell_type": "markdown",
   "metadata": {},
   "source": [
    "## Comprehensions\n",
    "\n",
    "Comprehensions are a way to create simple lists, dictionaries, and other objects in Python using a very compact syntax.  They are a rather unique feature of Python and are considered a very *Pythonic* way to accomplish these tasks.  Some programmers relish the chance to show off their python knowledge by forming comprehensions.\n",
    "\n",
    "Suppose you wanted to put the first 10 square numbers in a list.  You could use a `for` loop that appended these numbers to a list, one at a time."
   ]
  },
  {
   "cell_type": "code",
   "execution_count": 170,
   "metadata": {
    "collapsed": false
   },
   "outputs": [
    {
     "name": "stdout",
     "output_type": "stream",
     "text": [
      "[1, 4, 9, 16, 25, 36, 49, 64, 81, 100]\n"
     ]
    }
   ],
   "source": [
    "squares = []\n",
    "for i in range(1,11):\n",
    "    squares.append(i**2)\n",
    "print(squares)"
   ]
  },
  {
   "cell_type": "markdown",
   "metadata": {},
   "source": [
    "A list comprehension does the same feat in one simple line."
   ]
  },
  {
   "cell_type": "code",
   "execution_count": 171,
   "metadata": {
    "collapsed": false
   },
   "outputs": [
    {
     "data": {
      "text/plain": [
       "[1, 4, 9, 16, 25, 36, 49, 64, 81, 100]"
      ]
     },
     "execution_count": 171,
     "metadata": {},
     "output_type": "execute_result"
    }
   ],
   "source": [
    "[i**2 for i in range(1,11)]"
   ]
  },
  {
   "cell_type": "markdown",
   "metadata": {},
   "source": [
    "Notice that the comprehension contains an expression, followed by a `for` statement.  In fact, the `for` statement is exactly the same as the one above.  Python will iterate through the `for` loop and compute the expression for each iteration, placing the results into a list.\n",
    "\n",
    "Of course, you cannot create every possible list in this way--by evaluating an expression for each iteration of a loop. However, when it works, a comprehension gives you an elegant and expressive way of creating lists in your code.\n",
    "\n",
    "We can also use comprehensions to simulate nested `for` loops. In this example, we create a list of all possible coordinates in a grid."
   ]
  },
  {
   "cell_type": "code",
   "execution_count": 172,
   "metadata": {
    "collapsed": false
   },
   "outputs": [
    {
     "data": {
      "text/plain": [
       "[(0, 0),\n",
       " (0, 1),\n",
       " (0, 2),\n",
       " (0, 3),\n",
       " (1, 0),\n",
       " (1, 1),\n",
       " (1, 2),\n",
       " (1, 3),\n",
       " (2, 0),\n",
       " (2, 1),\n",
       " (2, 2),\n",
       " (2, 3),\n",
       " (3, 0),\n",
       " (3, 1),\n",
       " (3, 2),\n",
       " (3, 3)]"
      ]
     },
     "execution_count": 172,
     "metadata": {},
     "output_type": "execute_result"
    }
   ],
   "source": [
    "[(row, column) for row in range(4) for column in range(4)]"
   ]
  },
  {
   "cell_type": "markdown",
   "metadata": {},
   "source": [
    "Finally, we can add an `if` clause to a list comprehension.  When we do this, Python will only include items in the list for which the `if` condition is True.  In this example, we create a list of the unique letters found in a word, in alphabetical order."
   ]
  },
  {
   "cell_type": "code",
   "execution_count": 173,
   "metadata": {
    "collapsed": false
   },
   "outputs": [
    {
     "name": "stdin",
     "output_type": "stream",
     "text": [
      "Enter a word:  hello\n"
     ]
    },
    {
     "name": "stdout",
     "output_type": "stream",
     "text": [
      "['e', 'h', 'l', 'o']\n"
     ]
    }
   ],
   "source": [
    "import string\n",
    "word = input(\"Enter a word: \").lower()\n",
    "letters = [a for a in string.ascii_lowercase if a in word]\n",
    "print(letters)"
   ]
  },
  {
   "cell_type": "markdown",
   "metadata": {},
   "source": [
    "Dictionary comprehensions are less common than list comprehensions, but let's take a look at just one example while we are on the topic. Suppose we want to store the number of times a letter appears in a word in a dictionary. We could use the following comprehension."
   ]
  },
  {
   "cell_type": "code",
   "execution_count": 174,
   "metadata": {
    "collapsed": false
   },
   "outputs": [
    {
     "name": "stdout",
     "output_type": "stream",
     "text": [
      "{'H': 1, 'e': 6, 'r': 1, ' ': 4, 'i': 1, 's': 2, 'o': 1, 'm': 2, 'x': 2, 'a': 1, 'p': 1, 'l': 1, 't': 2, '.': 1}\n"
     ]
    }
   ],
   "source": [
    "text = \"Here is some example text.\"\n",
    "frequencies = {letter : text.count(letter) for letter in text}\n",
    "print(frequencies)"
   ]
  },
  {
   "cell_type": "markdown",
   "metadata": {},
   "source": [
    "### Fortunately we can use other packages to perform mathematical optimizations, e.g. SciPy\n",
    "\n",
    "Scipy: https://docs.scipy.org/doc/scipy/reference/optimize.html  "
   ]
  },
  {
   "cell_type": "code",
   "execution_count": 222,
   "metadata": {},
   "outputs": [
    {
     "name": "stdout",
     "output_type": "stream",
     "text": [
      "Requirement already satisfied: scipy in c:\\users\\bisedab\\appdata\\local\\continuum\\anaconda3\\lib\\site-packages (1.2.1)\n"
     ]
    }
   ],
   "source": [
    "!pip install scipy"
   ]
  },
  {
   "cell_type": "code",
   "execution_count": 223,
   "metadata": {},
   "outputs": [],
   "source": [
    "import scipy"
   ]
  },
  {
   "cell_type": "code",
   "execution_count": 224,
   "metadata": {},
   "outputs": [],
   "source": [
    "def f(x):\n",
    "    y = (x+5)*(x+3)*(x-1)*(x+2)+8\n",
    "    return y"
   ]
  },
  {
   "cell_type": "code",
   "execution_count": 225,
   "metadata": {},
   "outputs": [],
   "source": [
    "x = list(range(-1000,1000))"
   ]
  },
  {
   "cell_type": "code",
   "execution_count": 226,
   "metadata": {},
   "outputs": [],
   "source": [
    "x = [val/100 for val in x]"
   ]
  },
  {
   "cell_type": "code",
   "execution_count": 227,
   "metadata": {},
   "outputs": [],
   "source": [
    "y = [f(val) for val in x]"
   ]
  },
  {
   "cell_type": "code",
   "execution_count": 228,
   "metadata": {},
   "outputs": [
    {
     "data": {
      "text/plain": [
       "<matplotlib.collections.PathCollection at 0x1fde48e1208>"
      ]
     },
     "execution_count": 228,
     "metadata": {},
     "output_type": "execute_result"
    },
    {
     "data": {
      "image/png": "[encoded data removed]",
      "text/plain": [
       "<Figure size 432x288 with 1 Axes>"
      ]
     },
     "metadata": {
      "needs_background": "light"
     },
     "output_type": "display_data"
    }
   ],
   "source": [
    "plt.ylim((-30, 30))\n",
    "plt.scatter(x,y)"
   ]
  },
  {
   "cell_type": "code",
   "execution_count": 229,
   "metadata": {},
   "outputs": [],
   "source": [
    "import scipy.optimize"
   ]
  },
  {
   "cell_type": "code",
   "execution_count": 230,
   "metadata": {},
   "outputs": [
    {
     "data": {
      "text/plain": [
       "\u001b[1;31mSignature:\u001b[0m\n",
       "\u001b[0mscipy\u001b[0m\u001b[1;33m.\u001b[0m\u001b[0moptimize\u001b[0m\u001b[1;33m.\u001b[0m\u001b[0mminimize\u001b[0m\u001b[1;33m(\u001b[0m\u001b[1;33m\n",
       "\u001b[0m    \u001b[0mfun\u001b[0m\u001b[1;33m,\u001b[0m\u001b[1;33m\n",
       "\u001b[0m    \u001b[0mx0\u001b[0m\u001b[1;33m,\u001b[0m\u001b[1;33m\n",
       "\u001b[0m    \u001b[0margs\u001b[0m\u001b[1;33m=\u001b[0m\u001b[1;33m(\u001b[0m\u001b[1;33m)\u001b[0m\u001b[1;33m,\u001b[0m\u001b[1;33m\n",
       "\u001b[0m    \u001b[0mmethod\u001b[0m\u001b[1;33m=\u001b[0m\u001b[1;32mNone\u001b[0m\u001b[1;33m,\u001b[0m\u001b[1;33m\n",
       "\u001b[0m    \u001b[0mjac\u001b[0m\u001b[1;33m=\u001b[0m\u001b[1;32mNone\u001b[0m\u001b[1;33m,\u001b[0m\u001b[1;33m\n",
       "\u001b[0m    \u001b[0mhess\u001b[0m\u001b[1;33m=\u001b[0m\u001b[1;32mNone\u001b[0m\u001b[1;33m,\u001b[0m\u001b[1;33m\n",
       "\u001b[0m    \u001b[0mhessp\u001b[0m\u001b[1;33m=\u001b[0m\u001b[1;32mNone\u001b[0m\u001b[1;33m,\u001b[0m\u001b[1;33m\n",
       "\u001b[0m    \u001b[0mbounds\u001b[0m\u001b[1;33m=\u001b[0m\u001b[1;32mNone\u001b[0m\u001b[1;33m,\u001b[0m\u001b[1;33m\n",
       "\u001b[0m    \u001b[0mconstraints\u001b[0m\u001b[1;33m=\u001b[0m\u001b[1;33m(\u001b[0m\u001b[1;33m)\u001b[0m\u001b[1;33m,\u001b[0m\u001b[1;33m\n",
       "\u001b[0m    \u001b[0mtol\u001b[0m\u001b[1;33m=\u001b[0m\u001b[1;32mNone\u001b[0m\u001b[1;33m,\u001b[0m\u001b[1;33m\n",
       "\u001b[0m    \u001b[0mcallback\u001b[0m\u001b[1;33m=\u001b[0m\u001b[1;32mNone\u001b[0m\u001b[1;33m,\u001b[0m\u001b[1;33m\n",
       "\u001b[0m    \u001b[0moptions\u001b[0m\u001b[1;33m=\u001b[0m\u001b[1;32mNone\u001b[0m\u001b[1;33m,\u001b[0m\u001b[1;33m\n",
       "\u001b[0m\u001b[1;33m)\u001b[0m\u001b[1;33m\u001b[0m\u001b[1;33m\u001b[0m\u001b[0m\n",
       "\u001b[1;31mDocstring:\u001b[0m\n",
       "Minimization of scalar function of one or more variables.\n",
       "\n",
       "Parameters\n",
       "----------\n",
       "fun : callable\n",
       "    The objective function to be minimized.\n",
       "\n",
       "        ``fun(x, *args) -> float``\n",
       "\n",
       "    where x is an 1-D array with shape (n,) and `args`\n",
       "    is a tuple of the fixed parameters needed to completely\n",
       "    specify the function.\n",
       "x0 : ndarray, shape (n,)\n",
       "    Initial guess. Array of real elements of size (n,),\n",
       "    where 'n' is the number of independent variables.\n",
       "args : tuple, optional\n",
       "    Extra arguments passed to the objective function and its\n",
       "    derivatives (`fun`, `jac` and `hess` functions).\n",
       "method : str or callable, optional\n",
       "    Type of solver.  Should be one of\n",
       "\n",
       "        - 'Nelder-Mead' :ref:`(see here) <optimize.minimize-neldermead>`\n",
       "        - 'Powell'      :ref:`(see here) <optimize.minimize-powell>`\n",
       "        - 'CG'          :ref:`(see here) <optimize.minimize-cg>`\n",
       "        - 'BFGS'        :ref:`(see here) <optimize.minimize-bfgs>`\n",
       "        - 'Newton-CG'   :ref:`(see here) <optimize.minimize-newtoncg>`\n",
       "        - 'L-BFGS-B'    :ref:`(see here) <optimize.minimize-lbfgsb>`\n",
       "        - 'TNC'         :ref:`(see here) <optimize.minimize-tnc>`\n",
       "        - 'COBYLA'      :ref:`(see here) <optimize.minimize-cobyla>`\n",
       "        - 'SLSQP'       :ref:`(see here) <optimize.minimize-slsqp>`\n",
       "        - 'trust-constr':ref:`(see here) <optimize.minimize-trustconstr>`\n",
       "        - 'dogleg'      :ref:`(see here) <optimize.minimize-dogleg>`\n",
       "        - 'trust-ncg'   :ref:`(see here) <optimize.minimize-trustncg>`\n",
       "        - 'trust-exact' :ref:`(see here) <optimize.minimize-trustexact>`\n",
       "        - 'trust-krylov' :ref:`(see here) <optimize.minimize-trustkrylov>`\n",
       "        - custom - a callable object (added in version 0.14.0),\n",
       "          see below for description.\n",
       "\n",
       "    If not given, chosen to be one of ``BFGS``, ``L-BFGS-B``, ``SLSQP``,\n",
       "    depending if the problem has constraints or bounds.\n",
       "jac : {callable,  '2-point', '3-point', 'cs', bool}, optional\n",
       "    Method for computing the gradient vector. Only for CG, BFGS,\n",
       "    Newton-CG, L-BFGS-B, TNC, SLSQP, dogleg, trust-ncg, trust-krylov,\n",
       "    trust-exact and trust-constr. If it is a callable, it should be a\n",
       "    function that returns the gradient vector:\n",
       "\n",
       "        ``jac(x, *args) -> array_like, shape (n,)``\n",
       "\n",
       "    where x is an array with shape (n,) and `args` is a tuple with\n",
       "    the fixed parameters. Alternatively, the keywords\n",
       "    {'2-point', '3-point', 'cs'} select a finite\n",
       "    difference scheme for numerical estimation of the gradient. Options\n",
       "    '3-point' and 'cs' are available only to 'trust-constr'.\n",
       "    If `jac` is a Boolean and is True, `fun` is assumed to return the\n",
       "    gradient along with the objective function. If False, the gradient\n",
       "    will be estimated using '2-point' finite difference estimation.\n",
       "hess : {callable, '2-point', '3-point', 'cs', HessianUpdateStrategy},  optional\n",
       "    Method for computing the Hessian matrix. Only for Newton-CG, dogleg,\n",
       "    trust-ncg,  trust-krylov, trust-exact and trust-constr. If it is\n",
       "    callable, it should return the  Hessian matrix:\n",
       "\n",
       "        ``hess(x, *args) -> {LinearOperator, spmatrix, array}, (n, n)``\n",
       "\n",
       "    where x is a (n,) ndarray and `args` is a tuple with the fixed\n",
       "    parameters. LinearOperator and sparse matrix returns are\n",
       "    allowed only for 'trust-constr' method. Alternatively, the keywords\n",
       "    {'2-point', '3-point', 'cs'} select a finite difference scheme\n",
       "    for numerical estimation. Or, objects implementing\n",
       "    `HessianUpdateStrategy` interface can be used to approximate\n",
       "    the Hessian. Available quasi-Newton methods implementing\n",
       "    this interface are:\n",
       "\n",
       "        - `BFGS`;\n",
       "        - `SR1`.\n",
       "\n",
       "    Whenever the gradient is estimated via finite-differences,\n",
       "    the Hessian cannot be estimated with options\n",
       "    {'2-point', '3-point', 'cs'} and needs to be\n",
       "    estimated using one of the quasi-Newton strategies.\n",
       "    Finite-difference options {'2-point', '3-point', 'cs'} and\n",
       "    `HessianUpdateStrategy` are available only for 'trust-constr' method.\n",
       "hessp : callable, optional\n",
       "    Hessian of objective function times an arbitrary vector p. Only for\n",
       "    Newton-CG, trust-ncg, trust-krylov, trust-constr.\n",
       "    Only one of `hessp` or `hess` needs to be given.  If `hess` is\n",
       "    provided, then `hessp` will be ignored.  `hessp` must compute the\n",
       "    Hessian times an arbitrary vector:\n",
       "\n",
       "        ``hessp(x, p, *args) ->  ndarray shape (n,)``\n",
       "\n",
       "    where x is a (n,) ndarray, p is an arbitrary vector with\n",
       "    dimension (n,) and `args` is a tuple with the fixed\n",
       "    parameters.\n",
       "bounds : sequence or `Bounds`, optional\n",
       "    Bounds on variables for L-BFGS-B, TNC, SLSQP and\n",
       "    trust-constr methods. There are two ways to specify the bounds:\n",
       "\n",
       "        1. Instance of `Bounds` class.\n",
       "        2. Sequence of ``(min, max)`` pairs for each element in `x`. None\n",
       "           is used to specify no bound.\n",
       "\n",
       "constraints : {Constraint, dict} or List of {Constraint, dict}, optional\n",
       "    Constraints definition (only for COBYLA, SLSQP and trust-constr).\n",
       "    Constraints for 'trust-constr' are defined as a single object or a\n",
       "    list of objects specifying constraints to the optimization problem.\n",
       "    Available constraints are:\n",
       "\n",
       "        - `LinearConstraint`\n",
       "        - `NonlinearConstraint`\n",
       "\n",
       "    Constraints for COBYLA, SLSQP are defined as a list of dictionaries.\n",
       "    Each dictionary with fields:\n",
       "\n",
       "        type : str\n",
       "            Constraint type: 'eq' for equality, 'ineq' for inequality.\n",
       "        fun : callable\n",
       "            The function defining the constraint.\n",
       "        jac : callable, optional\n",
       "            The Jacobian of `fun` (only for SLSQP).\n",
       "        args : sequence, optional\n",
       "            Extra arguments to be passed to the function and Jacobian.\n",
       "\n",
       "    Equality constraint means that the constraint function result is to\n",
       "    be zero whereas inequality means that it is to be non-negative.\n",
       "    Note that COBYLA only supports inequality constraints.\n",
       "tol : float, optional\n",
       "    Tolerance for termination. For detailed control, use solver-specific\n",
       "    options.\n",
       "options : dict, optional\n",
       "    A dictionary of solver options. All methods accept the following\n",
       "    generic options:\n",
       "\n",
       "        maxiter : int\n",
       "            Maximum number of iterations to perform.\n",
       "        disp : bool\n",
       "            Set to True to print convergence messages.\n",
       "\n",
       "    For method-specific options, see :func:`show_options()`.\n",
       "callback : callable, optional\n",
       "    Called after each iteration. For 'trust-constr' it is a callable with\n",
       "    the signature:\n",
       "\n",
       "        ``callback(xk, OptimizeResult state) -> bool``\n",
       "\n",
       "    where ``xk`` is the current parameter vector. and ``state``\n",
       "    is an `OptimizeResult` object, with the same fields\n",
       "    as the ones from the return.  If callback returns True\n",
       "    the algorithm execution is terminated.\n",
       "    For all the other methods, the signature is:\n",
       "\n",
       "        ``callback(xk)``\n",
       "\n",
       "    where ``xk`` is the current parameter vector.\n",
       "\n",
       "Returns\n",
       "-------\n",
       "res : OptimizeResult\n",
       "    The optimization result represented as a ``OptimizeResult`` object.\n",
       "    Important attributes are: ``x`` the solution array, ``success`` a\n",
       "    Boolean flag indicating if the optimizer exited successfully and\n",
       "    ``message`` which describes the cause of the termination. See\n",
       "    `OptimizeResult` for a description of other attributes.\n",
       "\n",
       "\n",
       "See also\n",
       "--------\n",
       "minimize_scalar : Interface to minimization algorithms for scalar\n",
       "    univariate functions\n",
       "show_options : Additional options accepted by the solvers\n",
       "\n",
       "Notes\n",
       "-----\n",
       "This section describes the available solvers that can be selected by the\n",
       "'method' parameter. The default method is *BFGS*.\n",
       "\n",
       "**Unconstrained minimization**\n",
       "\n",
       "Method :ref:`Nelder-Mead <optimize.minimize-neldermead>` uses the\n",
       "Simplex algorithm [1]_, [2]_. This algorithm is robust in many\n",
       "applications. However, if numerical computation of derivative can be\n",
       "trusted, other algorithms using the first and/or second derivatives\n",
       "information might be preferred for their better performance in\n",
       "general.\n",
       "\n",
       "Method :ref:`Powell <optimize.minimize-powell>` is a modification\n",
       "of Powell's method [3]_, [4]_ which is a conjugate direction\n",
       "method. It performs sequential one-dimensional minimizations along\n",
       "each vector of the directions set (`direc` field in `options` and\n",
       "`info`), which is updated at each iteration of the main\n",
       "minimization loop. The function need not be differentiable, and no\n",
       "derivatives are taken.\n",
       "\n",
       "Method :ref:`CG <optimize.minimize-cg>` uses a nonlinear conjugate\n",
       "gradient algorithm by Polak and Ribiere, a variant of the\n",
       "Fletcher-Reeves method described in [5]_ pp.  120-122. Only the\n",
       "first derivatives are used.\n",
       "\n",
       "Method :ref:`BFGS <optimize.minimize-bfgs>` uses the quasi-Newton\n",
       "method of Broyden, Fletcher, Goldfarb, and Shanno (BFGS) [5]_\n",
       "pp. 136. It uses the first derivatives only. BFGS has proven good\n",
       "performance even for non-smooth optimizations. This method also\n",
       "returns an approximation of the Hessian inverse, stored as\n",
       "`hess_inv` in the OptimizeResult object.\n",
       "\n",
       "Method :ref:`Newton-CG <optimize.minimize-newtoncg>` uses a\n",
       "Newton-CG algorithm [5]_ pp. 168 (also known as the truncated\n",
       "Newton method). It uses a CG method to the compute the search\n",
       "direction. See also *TNC* method for a box-constrained\n",
       "minimization with a similar algorithm. Suitable for large-scale\n",
       "problems.\n",
       "\n",
       "Method :ref:`dogleg <optimize.minimize-dogleg>` uses the dog-leg\n",
       "trust-region algorithm [5]_ for unconstrained minimization. This\n",
       "algorithm requires the gradient and Hessian; furthermore the\n",
       "Hessian is required to be positive definite.\n",
       "\n",
       "Method :ref:`trust-ncg <optimize.minimize-trustncg>` uses the\n",
       "Newton conjugate gradient trust-region algorithm [5]_ for\n",
       "unconstrained minimization. This algorithm requires the gradient\n",
       "and either the Hessian or a function that computes the product of\n",
       "the Hessian with a given vector. Suitable for large-scale problems.\n",
       "\n",
       "Method :ref:`trust-krylov <optimize.minimize-trustkrylov>` uses\n",
       "the Newton GLTR trust-region algorithm [14]_, [15]_ for unconstrained\n",
       "minimization. This algorithm requires the gradient\n",
       "and either the Hessian or a function that computes the product of\n",
       "the Hessian with a given vector. Suitable for large-scale problems.\n",
       "On indefinite problems it requires usually less iterations than the\n",
       "`trust-ncg` method and is recommended for medium and large-scale problems.\n",
       "\n",
       "Method :ref:`trust-exact <optimize.minimize-trustexact>`\n",
       "is a trust-region method for unconstrained minimization in which\n",
       "quadratic subproblems are solved almost exactly [13]_. This\n",
       "algorithm requires the gradient and the Hessian (which is\n",
       "*not* required to be positive definite). It is, in many\n",
       "situations, the Newton method to converge in fewer iteraction\n",
       "and the most recommended for small and medium-size problems.\n",
       "\n",
       "**Bound-Constrained minimization**\n",
       "\n",
       "Method :ref:`L-BFGS-B <optimize.minimize-lbfgsb>` uses the L-BFGS-B\n",
       "algorithm [6]_, [7]_ for bound constrained minimization.\n",
       "\n",
       "Method :ref:`TNC <optimize.minimize-tnc>` uses a truncated Newton\n",
       "algorithm [5]_, [8]_ to minimize a function with variables subject\n",
       "to bounds. This algorithm uses gradient information; it is also\n",
       "called Newton Conjugate-Gradient. It differs from the *Newton-CG*\n",
       "method described above as it wraps a C implementation and allows\n",
       "each variable to be given upper and lower bounds.\n",
       "\n",
       "**Constrained Minimization**\n",
       "\n",
       "Method :ref:`COBYLA <optimize.minimize-cobyla>` uses the\n",
       "Constrained Optimization BY Linear Approximation (COBYLA) method\n",
       "[9]_, [10]_, [11]_. The algorithm is based on linear\n",
       "approximations to the objective function and each constraint. The\n",
       "method wraps a FORTRAN implementation of the algorithm. The\n",
       "constraints functions 'fun' may return either a single number\n",
       "or an array or list of numbers.\n",
       "\n",
       "Method :ref:`SLSQP <optimize.minimize-slsqp>` uses Sequential\n",
       "Least SQuares Programming to minimize a function of several\n",
       "variables with any combination of bounds, equality and inequality\n",
       "constraints. The method wraps the SLSQP Optimization subroutine\n",
       "originally implemented by Dieter Kraft [12]_. Note that the\n",
       "wrapper handles infinite values in bounds by converting them into\n",
       "large floating values.\n",
       "\n",
       "Method :ref:`trust-constr <optimize.minimize-trustconstr>` is a\n",
       "trust-region algorithm for constrained optimization. It swiches\n",
       "between two implementations depending on the problem definition.\n",
       "It is the most versatile constrained minimization algorithm\n",
       "implemented in SciPy and the most appropriate for large-scale problems.\n",
       "For equality constrained problems it is an implementation of Byrd-Omojokun\n",
       "Trust-Region SQP method described in [17]_ and in [5]_, p. 549. When\n",
       "inequality constraints  are imposed as well, it swiches to the trust-region\n",
       "interior point  method described in [16]_. This interior point algorithm,\n",
       "in turn, solves inequality constraints by introducing slack variables\n",
       "and solving a sequence of equality-constrained barrier problems\n",
       "for progressively smaller values of the barrier parameter.\n",
       "The previously described equality constrained SQP method is\n",
       "used to solve the subproblems with increasing levels of accuracy\n",
       "as the iterate gets closer to a solution.\n",
       "\n",
       "**Finite-Difference Options**\n",
       "\n",
       "For Method :ref:`trust-constr <optimize.minimize-trustconstr>`\n",
       "the gradient and the Hessian may be approximated using\n",
       "three finite-difference schemes: {'2-point', '3-point', 'cs'}.\n",
       "The scheme 'cs' is, potentially, the most accurate but it\n",
       "requires the function to correctly handles complex inputs and to\n",
       "be differentiable in the complex plane. The scheme '3-point' is more\n",
       "accurate than '2-point' but requires twice as much operations.\n",
       "\n",
       "**Custom minimizers**\n",
       "\n",
       "It may be useful to pass a custom minimization method, for example\n",
       "when using a frontend to this method such as `scipy.optimize.basinhopping`\n",
       "or a different library.  You can simply pass a callable as the ``method``\n",
       "parameter.\n",
       "\n",
       "The callable is called as ``method(fun, x0, args, **kwargs, **options)``\n",
       "where ``kwargs`` corresponds to any other parameters passed to `minimize`\n",
       "(such as `callback`, `hess`, etc.), except the `options` dict, which has\n",
       "its contents also passed as `method` parameters pair by pair.  Also, if\n",
       "`jac` has been passed as a bool type, `jac` and `fun` are mangled so that\n",
       "`fun` returns just the function values and `jac` is converted to a function\n",
       "returning the Jacobian.  The method shall return an ``OptimizeResult``\n",
       "object.\n",
       "\n",
       "The provided `method` callable must be able to accept (and possibly ignore)\n",
       "arbitrary parameters; the set of parameters accepted by `minimize` may\n",
       "expand in future versions and then these parameters will be passed to\n",
       "the method.  You can find an example in the scipy.optimize tutorial.\n",
       "\n",
       ".. versionadded:: 0.11.0\n",
       "\n",
       "References\n",
       "----------\n",
       ".. [1] Nelder, J A, and R Mead. 1965. A Simplex Method for Function\n",
       "    Minimization. The Computer Journal 7: 308-13.\n",
       ".. [2] Wright M H. 1996. Direct search methods: Once scorned, now\n",
       "    respectable, in Numerical Analysis 1995: Proceedings of the 1995\n",
       "    Dundee Biennial Conference in Numerical Analysis (Eds. D F\n",
       "    Griffiths and G A Watson). Addison Wesley Longman, Harlow, UK.\n",
       "    191-208.\n",
       ".. [3] Powell, M J D. 1964. An efficient method for finding the minimum of\n",
       "   a function of several variables without calculating derivatives. The\n",
       "   Computer Journal 7: 155-162.\n",
       ".. [4] Press W, S A Teukolsky, W T Vetterling and B P Flannery.\n",
       "   Numerical Recipes (any edition), Cambridge University Press.\n",
       ".. [5] Nocedal, J, and S J Wright. 2006. Numerical Optimization.\n",
       "   Springer New York.\n",
       ".. [6] Byrd, R H and P Lu and J. Nocedal. 1995. A Limited Memory\n",
       "   Algorithm for Bound Constrained Optimization. SIAM Journal on\n",
       "   Scientific and Statistical Computing 16 (5): 1190-1208.\n",
       ".. [7] Zhu, C and R H Byrd and J Nocedal. 1997. L-BFGS-B: Algorithm\n",
       "   778: L-BFGS-B, FORTRAN routines for large scale bound constrained\n",
       "   optimization. ACM Transactions on Mathematical Software 23 (4):\n",
       "   550-560.\n",
       ".. [8] Nash, S G. Newton-Type Minimization Via the Lanczos Method.\n",
       "   1984. SIAM Journal of Numerical Analysis 21: 770-778.\n",
       ".. [9] Powell, M J D. A direct search optimization method that models\n",
       "   the objective and constraint functions by linear interpolation.\n",
       "   1994. Advances in Optimization and Numerical Analysis, eds. S. Gomez\n",
       "   and J-P Hennart, Kluwer Academic (Dordrecht), 51-67.\n",
       ".. [10] Powell M J D. Direct search algorithms for optimization\n",
       "   calculations. 1998. Acta Numerica 7: 287-336.\n",
       ".. [11] Powell M J D. A view of algorithms for optimization without\n",
       "   derivatives. 2007.Cambridge University Technical Report DAMTP\n",
       "   2007/NA03\n",
       ".. [12] Kraft, D. A software package for sequential quadratic\n",
       "   programming. 1988. Tech. Rep. DFVLR-FB 88-28, DLR German Aerospace\n",
       "   Center -- Institute for Flight Mechanics, Koln, Germany.\n",
       ".. [13] Conn, A. R., Gould, N. I., and Toint, P. L.\n",
       "   Trust region methods. 2000. Siam. pp. 169-200.\n",
       ".. [14] F. Lenders, C. Kirches, A. Potschka: \"trlib: A vector-free\n",
       "   implementation of the GLTR method for iterative solution of\n",
       "   the trust region problem\", https://arxiv.org/abs/1611.04718\n",
       ".. [15] N. Gould, S. Lucidi, M. Roma, P. Toint: \"Solving the\n",
       "   Trust-Region Subproblem using the Lanczos Method\",\n",
       "   SIAM J. Optim., 9(2), 504--525, (1999).\n",
       ".. [16] Byrd, Richard H., Mary E. Hribar, and Jorge Nocedal. 1999.\n",
       "    An interior point algorithm for large-scale nonlinear  programming.\n",
       "    SIAM Journal on Optimization 9.4: 877-900.\n",
       ".. [17] Lalee, Marucha, Jorge Nocedal, and Todd Plantega. 1998. On the\n",
       "    implementation of an algorithm for large-scale equality constrained\n",
       "    optimization. SIAM Journal on Optimization 8.3: 682-706.\n",
       "\n",
       "Examples\n",
       "--------\n",
       "Let us consider the problem of minimizing the Rosenbrock function. This\n",
       "function (and its respective derivatives) is implemented in `rosen`\n",
       "(resp. `rosen_der`, `rosen_hess`) in the `scipy.optimize`.\n",
       "\n",
       ">>> from scipy.optimize import minimize, rosen, rosen_der\n",
       "\n",
       "A simple application of the *Nelder-Mead* method is:\n",
       "\n",
       ">>> x0 = [1.3, 0.7, 0.8, 1.9, 1.2]\n",
       ">>> res = minimize(rosen, x0, method='Nelder-Mead', tol=1e-6)\n",
       ">>> res.x\n",
       "array([ 1.,  1.,  1.,  1.,  1.])\n",
       "\n",
       "Now using the *BFGS* algorithm, using the first derivative and a few\n",
       "options:\n",
       "\n",
       ">>> res = minimize(rosen, x0, method='BFGS', jac=rosen_der,\n",
       "...                options={'gtol': 1e-6, 'disp': True})\n",
       "Optimization terminated successfully.\n",
       "         Current function value: 0.000000\n",
       "         Iterations: 26\n",
       "         Function evaluations: 31\n",
       "         Gradient evaluations: 31\n",
       ">>> res.x\n",
       "array([ 1.,  1.,  1.,  1.,  1.])\n",
       ">>> print(res.message)\n",
       "Optimization terminated successfully.\n",
       ">>> res.hess_inv\n",
       "array([[ 0.00749589,  0.01255155,  0.02396251,  0.04750988,  0.09495377],  # may vary\n",
       "       [ 0.01255155,  0.02510441,  0.04794055,  0.09502834,  0.18996269],\n",
       "       [ 0.02396251,  0.04794055,  0.09631614,  0.19092151,  0.38165151],\n",
       "       [ 0.04750988,  0.09502834,  0.19092151,  0.38341252,  0.7664427 ],\n",
       "       [ 0.09495377,  0.18996269,  0.38165151,  0.7664427,   1.53713523]])\n",
       "\n",
       "\n",
       "Next, consider a minimization problem with several constraints (namely\n",
       "Example 16.4 from [5]_). The objective function is:\n",
       "\n",
       ">>> fun = lambda x: (x[0] - 1)**2 + (x[1] - 2.5)**2\n",
       "\n",
       "There are three constraints defined as:\n",
       "\n",
       ">>> cons = ({'type': 'ineq', 'fun': lambda x:  x[0] - 2 * x[1] + 2},\n",
       "...         {'type': 'ineq', 'fun': lambda x: -x[0] - 2 * x[1] + 6},\n",
       "...         {'type': 'ineq', 'fun': lambda x: -x[0] + 2 * x[1] + 2})\n",
       "\n",
       "And variables must be positive, hence the following bounds:\n",
       "\n",
       ">>> bnds = ((0, None), (0, None))\n",
       "\n",
       "The optimization problem is solved using the SLSQP method as:\n",
       "\n",
       ">>> res = minimize(fun, (2, 0), method='SLSQP', bounds=bnds,\n",
       "...                constraints=cons)\n",
       "\n",
       "It should converge to the theoretical solution (1.4 ,1.7).\n",
       "\u001b[1;31mFile:\u001b[0m      c:\\users\\bisedab\\appdata\\local\\continuum\\anaconda3\\lib\\site-packages\\scipy\\optimize\\_minimize.py\n",
       "\u001b[1;31mType:\u001b[0m      function\n"
      ]
     },
     "metadata": {},
     "output_type": "display_data"
    }
   ],
   "source": [
    "?scipy.optimize.minimize"
   ]
  },
  {
   "cell_type": "code",
   "execution_count": 231,
   "metadata": {},
   "outputs": [
    {
     "data": {
      "text/plain": [
       "\u001b[1;31mType:\u001b[0m        module\n",
       "\u001b[1;31mString form:\u001b[0m <module 'scipy' from 'C:\\\\Users\\\\bisedab\\\\AppData\\\\Local\\\\Continuum\\\\anaconda3\\\\lib\\\\site-packages\\\\scipy\\\\__init__.py'>\n",
       "\u001b[1;31mFile:\u001b[0m        c:\\users\\bisedab\\appdata\\local\\continuum\\anaconda3\\lib\\site-packages\\scipy\\__init__.py\n",
       "\u001b[1;31mDocstring:\u001b[0m  \n",
       "SciPy: A scientific computing package for Python\n",
       "================================================\n",
       "\n",
       "Documentation is available in the docstrings and\n",
       "online at https://docs.scipy.org.\n",
       "\n",
       "Contents\n",
       "--------\n",
       "SciPy imports all the functions from the NumPy namespace, and in\n",
       "addition provides:\n",
       "\n",
       "Subpackages\n",
       "-----------\n",
       "Using any of these subpackages requires an explicit import.  For example,\n",
       "``import scipy.cluster``.\n",
       "\n",
       "::\n",
       "\n",
       " cluster                      --- Vector Quantization / Kmeans\n",
       " fftpack                      --- Discrete Fourier Transform algorithms\n",
       " integrate                    --- Integration routines\n",
       " interpolate                  --- Interpolation Tools\n",
       " io                           --- Data input and output\n",
       " linalg                       --- Linear algebra routines\n",
       " linalg.blas                  --- Wrappers to BLAS library\n",
       " linalg.lapack                --- Wrappers to LAPACK library\n",
       " misc                         --- Various utilities that don't have\n",
       "                                  another home.\n",
       " ndimage                      --- n-dimensional image package\n",
       " odr                          --- Orthogonal Distance Regression\n",
       " optimize                     --- Optimization Tools\n",
       " signal                       --- Signal Processing Tools\n",
       " signal.windows               --- Window functions\n",
       " sparse                       --- Sparse Matrices\n",
       " sparse.linalg                --- Sparse Linear Algebra\n",
       " sparse.linalg.dsolve         --- Linear Solvers\n",
       " sparse.linalg.dsolve.umfpack --- :Interface to the UMFPACK library:\n",
       "                                  Conjugate Gradient Method (LOBPCG)\n",
       " sparse.linalg.eigen          --- Sparse Eigenvalue Solvers\n",
       " sparse.linalg.eigen.lobpcg   --- Locally Optimal Block Preconditioned\n",
       "                                  Conjugate Gradient Method (LOBPCG)\n",
       " spatial                      --- Spatial data structures and algorithms\n",
       " special                      --- Special functions\n",
       " stats                        --- Statistical Functions\n",
       "\n",
       "Utility tools\n",
       "-------------\n",
       "::\n",
       "\n",
       " test              --- Run scipy unittests\n",
       " show_config       --- Show scipy build configuration\n",
       " show_numpy_config --- Show numpy build configuration\n",
       " __version__       --- Scipy version string\n",
       " __numpy_version__ --- Numpy version string\n"
      ]
     },
     "metadata": {},
     "output_type": "display_data"
    }
   ],
   "source": [
    "?scipy"
   ]
  },
  {
   "cell_type": "code",
   "execution_count": 234,
   "metadata": {},
   "outputs": [
    {
     "data": {
      "text/plain": [
       "      fun: -22.011785688651436\n",
       " hess_inv: array([[0.02315405]])\n",
       "      jac: array([-4.05311584e-06])\n",
       "  message: 'Optimization terminated successfully.'\n",
       "     nfev: 15\n",
       "      nit: 3\n",
       "     njev: 5\n",
       "   status: 0\n",
       "  success: True\n",
       "        x: array([0.02345454])"
      ]
     },
     "execution_count": 234,
     "metadata": {},
     "output_type": "execute_result"
    }
   ],
   "source": [
    "initial_guess = [0]\n",
    "scipy.optimize.minimize(f, initial_guess)"
   ]
  },
  {
   "cell_type": "markdown",
   "metadata": {},
   "source": [
    "# Preview of More to Come!"
   ]
  },
  {
   "cell_type": "markdown",
   "metadata": {},
   "source": [
    "# Arrays\n",
    "\n",
    "The Python types we have seen so far are all built into Python; this means that they are automatically available when you start writing Python code. As with any modern language, however, programmers are always adding new functionality to Python and they often want to share their code with others.  The main way this is done is with packages.\n",
    "\n",
    "A package contains extra object types, functions, and variables that are not included in base Python. Some packages are specialized to niche applications, while others are so popular that nearly every coder uses them.\n",
    "\n",
    "One particular package, NumPy, sits as the foundation for scientific and data computing in Python. Many other data science packages are built on top of NumPy, so it is very important to understand its function.\n",
    "\n",
    "[NumPy](http://www.numpy.org/) is the core of the [PyData](http://pydata.org/) ecosystem.\n",
    "\n",
    "------\n",
    "\n",
    "*From the NumPy Website*\n",
    "\n",
    "NumPy is the fundamental package for scientific computing with Python. It contains among other things:\n",
    "\n",
    "- a powerful N-dimensional array object\n",
    "- sophisticated (broadcasting) functions\n",
    "- tools for integrating C/C++ and Fortran code\n",
    "- useful linear algebra, Fourier transform, and random number capabilities\n",
    "\n",
    "------\n",
    "\n",
    "We often use NumPy to work with data. In this notebook, we will begin introducing its functionality with a few simple examples.\n",
    "\n",
    "To use the functionality provided by a package, we first have to import it into our program.  This is done with the `import` keyword. At the point at which we import a package, we can also rename it with the `as` keyword. Traditionally, `numpy` is renamed `np`. The reason that we do this is that there is a convention in the PyData community to import data packages with shorter names.\n"
   ]
  },
  {
   "cell_type": "code",
   "execution_count": 1,
   "metadata": {
    "collapsed": false
   },
   "outputs": [],
   "source": [
    "import numpy as np"
   ]
  },
  {
   "cell_type": "code",
   "execution_count": 2,
   "metadata": {
    "collapsed": false
   },
   "outputs": [
    {
     "data": {
      "text/plain": [
       "array([ 0,  1,  2,  3,  4,  5,  6,  7,  8,  9, 10, 11, 12, 13, 14, 15, 16,\n",
       "       17, 18, 19])"
      ]
     },
     "execution_count": 2,
     "metadata": {},
     "output_type": "execute_result"
    }
   ],
   "source": [
    "np.arange(0,20)"
   ]
  },
  {
   "cell_type": "markdown",
   "metadata": {},
   "source": [
    "This should look pretty familiar; the `arange` function is analogous to the `range` function we saw earlier. Instead of returning a range, however, this function returns something we call an *array*.\n",
    "\n",
    "Arrays are similar to the sequences we saw earlier. For example, we can access items by their indices."
   ]
  },
  {
   "cell_type": "code",
   "execution_count": 3,
   "metadata": {
    "collapsed": false
   },
   "outputs": [
    {
     "data": {
      "text/plain": [
       "array([ 0,  1, 12,  3,  4,  5,  6,  7,  8,  9, 10, 11, 12, 13, 14, 15, 16,\n",
       "       17, 18, 19])"
      ]
     },
     "execution_count": 3,
     "metadata": {},
     "output_type": "execute_result"
    }
   ],
   "source": [
    "my_array = np.arange(20)\n",
    "my_array[2] = 12\n",
    "my_array"
   ]
  },
  {
   "cell_type": "markdown",
   "metadata": {},
   "source": [
    "Arrays also have some unique characteristics.  For one thing, all the objects contained in an array must be the same type.  This may seem like a pesky restriction, but it allows arrays to work very efficiently on large amounts of data."
   ]
  },
  {
   "cell_type": "code",
   "execution_count": 4,
   "metadata": {
    "collapsed": false
   },
   "outputs": [
    {
     "ename": "ValueError",
     "evalue": "invalid literal for int() with base 10: 'shoe'",
     "output_type": "error",
     "traceback": [
      "\u001b[0;31m---------------------------------------------------------------------------\u001b[0m",
      "\u001b[0;31mValueError\u001b[0m                                Traceback (most recent call last)",
      "\u001b[0;32m<ipython-input-4-7b56afc93f6f>\u001b[0m in \u001b[0;36m<module>\u001b[0;34m()\u001b[0m\n\u001b[0;32m----> 1\u001b[0;31m \u001b[0mmy_array\u001b[0m\u001b[0;34m[\u001b[0m\u001b[0;36m5\u001b[0m\u001b[0;34m]\u001b[0m \u001b[0;34m=\u001b[0m \u001b[0;34m\"shoe\"\u001b[0m\u001b[0;34m\u001b[0m\u001b[0m\n\u001b[0m",
      "\u001b[0;31mValueError\u001b[0m: invalid literal for int() with base 10: 'shoe'"
     ]
    }
   ],
   "source": [
    "my_array[5] = \"shoe\""
   ]
  },
  {
   "cell_type": "markdown",
   "metadata": {},
   "source": [
    "The data type of an array can be accessed through the `dtype` property; this will give us information about all the objects stored in the array. That means that you cannot change the type of an array once it is created (unless you work around this)."
   ]
  },
  {
   "cell_type": "code",
   "execution_count": 5,
   "metadata": {
    "collapsed": false
   },
   "outputs": [
    {
     "data": {
      "text/plain": [
       "dtype('int64')"
      ]
     },
     "execution_count": 5,
     "metadata": {},
     "output_type": "execute_result"
    }
   ],
   "source": [
    "my_array.dtype"
   ]
  },
  {
   "cell_type": "markdown",
   "metadata": {},
   "source": [
    "In addition, once an array is created, its size is fixed. You cannot pop or append to an array because of the way that arrays allocate memory. The fixed size allows arrays to be optimized for high performance."
   ]
  },
  {
   "cell_type": "code",
   "execution_count": 6,
   "metadata": {
    "collapsed": false
   },
   "outputs": [],
   "source": [
    "new_array = np.array([5,10,15,20])"
   ]
  },
  {
   "cell_type": "code",
   "execution_count": 7,
   "metadata": {
    "collapsed": false
   },
   "outputs": [
    {
     "ename": "AttributeError",
     "evalue": "'numpy.ndarray' object has no attribute 'append'",
     "output_type": "error",
     "traceback": [
      "\u001b[0;31m---------------------------------------------------------------------------\u001b[0m",
      "\u001b[0;31mAttributeError\u001b[0m                            Traceback (most recent call last)",
      "\u001b[0;32m<ipython-input-7-6abe63df61d6>\u001b[0m in \u001b[0;36m<module>\u001b[0;34m()\u001b[0m\n\u001b[0;32m----> 1\u001b[0;31m \u001b[0mnew_array\u001b[0m\u001b[0;34m.\u001b[0m\u001b[0mappend\u001b[0m\u001b[0;34m(\u001b[0m\u001b[0;36m5\u001b[0m\u001b[0;34m)\u001b[0m\u001b[0;34m\u001b[0m\u001b[0m\n\u001b[0m",
      "\u001b[0;31mAttributeError\u001b[0m: 'numpy.ndarray' object has no attribute 'append'"
     ]
    }
   ],
   "source": [
    "new_array.append(5)"
   ]
  },
  {
   "cell_type": "code",
   "execution_count": 8,
   "metadata": {
    "collapsed": false
   },
   "outputs": [
    {
     "ename": "AttributeError",
     "evalue": "'numpy.ndarray' object has no attribute 'pop'",
     "output_type": "error",
     "traceback": [
      "\u001b[0;31m---------------------------------------------------------------------------\u001b[0m",
      "\u001b[0;31mAttributeError\u001b[0m                            Traceback (most recent call last)",
      "\u001b[0;32m<ipython-input-8-429e7ee3d43f>\u001b[0m in \u001b[0;36m<module>\u001b[0;34m()\u001b[0m\n\u001b[0;32m----> 1\u001b[0;31m \u001b[0mnew_array\u001b[0m\u001b[0;34m.\u001b[0m\u001b[0mpop\u001b[0m\u001b[0;34m(\u001b[0m\u001b[0;34m)\u001b[0m\u001b[0;34m\u001b[0m\u001b[0m\n\u001b[0m",
      "\u001b[0;31mAttributeError\u001b[0m: 'numpy.ndarray' object has no attribute 'pop'"
     ]
    }
   ],
   "source": [
    "new_array.pop()"
   ]
  },
  {
   "cell_type": "markdown",
   "metadata": {},
   "source": [
    "You can see in the error messages that the arrays we are dealing with have type `'numpy.ndarray'`. This stands for *n*-dimensional array. We can make *n* anything that we want.\n",
    "\n",
    "For example, we can create a two-dimensional matrix with uniformly distributed random numbers between 0 and 1."
   ]
  },
  {
   "cell_type": "code",
   "execution_count": 9,
   "metadata": {
    "collapsed": false
   },
   "outputs": [
    {
     "data": {
      "text/plain": [
       "array([[ 0.10648234,  0.83217679,  0.63806576,  0.69003448,  0.9748543 ],\n",
       "       [ 0.59020448,  0.86675064,  0.80940695,  0.88256189,  0.99050187],\n",
       "       [ 0.87244291,  0.07258846,  0.57155022,  0.44507565,  0.045058  ],\n",
       "       [ 0.93489746,  0.09116535,  0.59777247,  0.09772608,  0.7570062 ],\n",
       "       [ 0.03492041,  0.14402342,  0.89550503,  0.51289362,  0.68879071]])"
      ]
     },
     "execution_count": 9,
     "metadata": {},
     "output_type": "execute_result"
    }
   ],
   "source": [
    "np.random.rand(5,5)"
   ]
  },
  {
   "cell_type": "markdown",
   "metadata": {},
   "source": [
    "Or we can create a three-dimensional cube of numbers."
   ]
  },
  {
   "cell_type": "code",
   "execution_count": 10,
   "metadata": {
    "collapsed": false
   },
   "outputs": [
    {
     "data": {
      "text/plain": [
       "array([[[ 0.62190203,  0.67813165,  0.24879432,  0.85351031,  0.47839552],\n",
       "        [ 0.12885694,  0.85591285,  0.7676117 ,  0.18049391,  0.24903808],\n",
       "        [ 0.33438681,  0.00883342,  0.30958822,  0.05377948,  0.09619761],\n",
       "        [ 0.63619928,  0.47561247,  0.86378828,  0.01852412,  0.03134734],\n",
       "        [ 0.31974582,  0.84927553,  0.02526485,  0.66531965,  0.61367574]],\n",
       "\n",
       "       [[ 0.43447214,  0.25742403,  0.56906217,  0.72603296,  0.21547998],\n",
       "        [ 0.08282102,  0.88334032,  0.11279749,  0.23502522,  0.98089176],\n",
       "        [ 0.67671649,  0.12275952,  0.54825469,  0.39615149,  0.44027412],\n",
       "        [ 0.34341265,  0.27453947,  0.50699397,  0.02295559,  0.51015296],\n",
       "        [ 0.86374756,  0.82933671,  0.97860856,  0.16388404,  0.18676941]],\n",
       "\n",
       "       [[ 0.50137612,  0.86100886,  0.46771107,  0.49762319,  0.09942061],\n",
       "        [ 0.64682201,  0.80645434,  0.30591674,  0.78372676,  0.62082823],\n",
       "        [ 0.0725108 ,  0.43652937,  0.01882027,  0.04576894,  0.03794534],\n",
       "        [ 0.8221575 ,  0.22857415,  0.24348705,  0.89471662,  0.32434504],\n",
       "        [ 0.74368279,  0.77160602,  0.10705934,  0.4936633 ,  0.78589559]],\n",
       "\n",
       "       [[ 0.07826472,  0.94207709,  0.89597438,  0.88258561,  0.57082903],\n",
       "        [ 0.09294111,  0.80232528,  0.91213184,  0.89835965,  0.17567069],\n",
       "        [ 0.999896  ,  0.92843283,  0.91762286,  0.10852207,  0.48792059],\n",
       "        [ 0.21089173,  0.43767298,  0.74849842,  0.18444499,  0.44024017],\n",
       "        [ 0.05551075,  0.87491153,  0.39881662,  0.83208024,  0.67927175]],\n",
       "\n",
       "       [[ 0.8152855 ,  0.54782396,  0.32529703,  0.03140135,  0.94390255],\n",
       "        [ 0.75001119,  0.74885413,  0.73562026,  0.90431494,  0.23166533],\n",
       "        [ 0.85774035,  0.95851625,  0.10013038,  0.59081398,  0.99084579],\n",
       "        [ 0.09548534,  0.40794765,  0.01720749,  0.72292335,  0.08353437],\n",
       "        [ 0.23366039,  0.69927974,  0.39470062,  0.28929137,  0.7898452 ]]])"
      ]
     },
     "execution_count": 10,
     "metadata": {},
     "output_type": "execute_result"
    }
   ],
   "source": [
    "np.random.rand(5,5,5)"
   ]
  },
  {
   "cell_type": "markdown",
   "metadata": {},
   "source": [
    "We can keep going to higher and higher dimensional spaces, but doing so is outside the scope of this course."
   ]
  },
  {
   "cell_type": "markdown",
   "metadata": {},
   "source": [
    "The random numbers we generated above were drawn from a uniform probability distribution. This is a very simple distribution, equal to 1, between 0 and 1, and 0 everywhere else. NumPy gives us many other distributions to work with, however."
   ]
  },
  {
   "cell_type": "code",
   "execution_count": 11,
   "metadata": {
    "collapsed": true
   },
   "outputs": [],
   "source": [
    "np.random?"
   ]
  },
  {
   "cell_type": "markdown",
   "metadata": {},
   "source": [
    "We can see that there are a variety of functions at our disposal. Let's get some uniformly distributed random variables."
   ]
  },
  {
   "cell_type": "code",
   "execution_count": 12,
   "metadata": {
    "collapsed": false
   },
   "outputs": [
    {
     "data": {
      "text/plain": [
       "array([ 0.92269111, -2.2276769 , -1.28704041,  0.89730048, -1.33606677,\n",
       "       -0.65326701,  0.7493691 , -1.29093916, -0.65151334, -2.03886176,\n",
       "        0.11773115, -0.37387359,  0.11986561,  1.96490916,  0.21022098,\n",
       "        1.62917658, -0.80917623, -0.23805272, -0.92187318,  1.31539243])"
      ]
     },
     "execution_count": 12,
     "metadata": {},
     "output_type": "execute_result"
    }
   ],
   "source": [
    "np.random.randn(20)"
   ]
  },
  {
   "cell_type": "markdown",
   "metadata": {},
   "source": [
    "Now that we have this array of normal random variables, let's reshape it into a matrix. This is done with the reshape method."
   ]
  },
  {
   "cell_type": "code",
   "execution_count": 13,
   "metadata": {
    "collapsed": false
   },
   "outputs": [],
   "source": [
    "ar = np.random.randn(20).reshape(5,4)"
   ]
  },
  {
   "cell_type": "code",
   "execution_count": 14,
   "metadata": {
    "collapsed": false
   },
   "outputs": [
    {
     "data": {
      "text/plain": [
       "array([[ 0.77400258, -0.33902124,  0.84960228,  0.67791938],\n",
       "       [ 1.51416211,  0.88888946, -1.18039892,  0.7369464 ],\n",
       "       [-1.18751671, -0.15008941, -0.02608664,  0.02503204],\n",
       "       [ 0.87306404, -0.26468326, -1.78996207,  0.41580606],\n",
       "       [ 0.14680233,  0.53553181, -0.34289575,  1.11064037]])"
      ]
     },
     "execution_count": 14,
     "metadata": {},
     "output_type": "execute_result"
    }
   ],
   "source": [
    "ar"
   ]
  },
  {
   "cell_type": "markdown",
   "metadata": {},
   "source": [
    "When you are working with data, you will often need to calculate some statistics from it. NumPy arrays have a lot of integrated common statistical functions.  To see an example, let's get the mean of our array."
   ]
  },
  {
   "cell_type": "code",
   "execution_count": 15,
   "metadata": {
    "collapsed": false
   },
   "outputs": [
    {
     "data": {
      "text/plain": [
       "0.1633872434123195"
      ]
     },
     "execution_count": 15,
     "metadata": {},
     "output_type": "execute_result"
    }
   ],
   "source": [
    "ar.mean()"
   ]
  },
  {
   "cell_type": "markdown",
   "metadata": {},
   "source": [
    "The standard deviation is just as easy."
   ]
  },
  {
   "cell_type": "code",
   "execution_count": 16,
   "metadata": {
    "collapsed": false
   },
   "outputs": [
    {
     "data": {
      "text/plain": [
       "0.82714511473596986"
      ]
     },
     "execution_count": 16,
     "metadata": {},
     "output_type": "execute_result"
    }
   ],
   "source": [
    "ar.std()"
   ]
  },
  {
   "cell_type": "markdown",
   "metadata": {},
   "source": [
    "Sometimes we will want to do these operations on each column or on each row. Doing so is still easy."
   ]
  },
  {
   "cell_type": "markdown",
   "metadata": {},
   "source": [
    "Here are the means of each column."
   ]
  },
  {
   "cell_type": "code",
   "execution_count": 17,
   "metadata": {
    "collapsed": false
   },
   "outputs": [
    {
     "data": {
      "text/plain": [
       "array([ 0.42410287,  0.13412547, -0.49794822,  0.59326885])"
      ]
     },
     "execution_count": 17,
     "metadata": {},
     "output_type": "execute_result"
    }
   ],
   "source": [
    "ar.mean(axis=0)"
   ]
  },
  {
   "cell_type": "markdown",
   "metadata": {},
   "source": [
    "Here are the means of each row."
   ]
  },
  {
   "cell_type": "code",
   "execution_count": 18,
   "metadata": {
    "collapsed": false
   },
   "outputs": [
    {
     "data": {
      "text/plain": [
       "array([ 0.49062575,  0.48989976, -0.33466518, -0.19144381,  0.36251969])"
      ]
     },
     "execution_count": 18,
     "metadata": {},
     "output_type": "execute_result"
    }
   ],
   "source": [
    "ar.mean(axis=1)"
   ]
  },
  {
   "cell_type": "markdown",
   "metadata": {},
   "source": [
    "This lesson has only begun to scratch the surface of NumPy's capabilities.  The NumPy library is huge, and no one class could truly cover all of it. Additionally, NumPy has a partner library, SciPy (which stands for *scientific Python*), that builds on NumPy and adds a great deal of advanced functionality. We will return to NumPy later in this course. You will learn more about SciPy as you continue through the data science program."
   ]
  },
  {
   "cell_type": "markdown",
   "metadata": {},
   "source": [
    "### Jupyter Magic Commands"
   ]
  },
  {
   "cell_type": "code",
   "execution_count": 59,
   "metadata": {},
   "outputs": [],
   "source": [
    "def add_one(x):\n",
    "    return x+1"
   ]
  },
  {
   "cell_type": "code",
   "execution_count": 60,
   "metadata": {},
   "outputs": [
    {
     "data": {
      "text/plain": [
       "6"
      ]
     },
     "execution_count": 60,
     "metadata": {},
     "output_type": "execute_result"
    }
   ],
   "source": [
    "add_one(5)"
   ]
  },
  {
   "cell_type": "code",
   "execution_count": 61,
   "metadata": {},
   "outputs": [
    {
     "name": "stdout",
     "output_type": "stream",
     "text": [
      "69.8 ns ± 0.0599 ns per loop (mean ± std. dev. of 7 runs, 10000000 loops each)\n"
     ]
    }
   ],
   "source": [
    "%%timeit\n",
    "add_one(5)"
   ]
  },
  {
   "cell_type": "code",
   "execution_count": 2,
   "metadata": {},
   "outputs": [
    {
     "name": "stdout",
     "output_type": "stream",
     "text": [
      "6.19 ns ± 0.016 ns per loop (mean ± std. dev. of 7 runs, 100000000 loops each)\n"
     ]
    }
   ],
   "source": [
    "%%timeit\n",
    "2+2"
   ]
  },
  {
   "cell_type": "code",
   "execution_count": 63,
   "metadata": {},
   "outputs": [
    {
     "name": "stdout",
     "output_type": "stream",
     "text": [
      " Volume in drive C has no label.\n",
      " Volume Serial Number is 6A8F-0D45\n",
      "\n",
      " Directory of C:\\Users\\bisedab\\Desktop\n",
      "\n",
      "10/22/2019  10:48 AM    <DIR>          .\n",
      "10/22/2019  10:48 AM    <DIR>          ..\n",
      "10/22/2019  10:12 AM    <DIR>          .ipynb_checkpoints\n",
      "09/19/2019  03:00 PM             1,717 0904_Accelerate Marc - F10-F E09-U Swap - Shortcut.lnk\n",
      "09/05/2019  01:37 PM         2,017,774 8 26 2019 Schedules - 30 Year Run_WTR  GAS_For Brent.xlsx\n",
      "06/20/2019  03:13 PM    <DIR>          applications\n",
      "03/08/2019  12:41 PM             1,375 East Management Production Graph - Shortcut.lnk\n",
      "06/10/2019  07:55 AM    <DIR>          fastai\n",
      "10/22/2019  10:31 AM         3,404,465 frac slowdown model_10_21_2019_v2.xlsx\n",
      "10/18/2016  03:36 PM               162 KRONOS!!!!!!!!.url\n",
      "10/22/2019  10:48 AM            23,178 lesson1.ipynb\n",
      "10/21/2019  12:58 PM    <DIR>          MIDS\n",
      "07/10/2019  01:48 PM           229,908 Production Monitoring_7_8_2019.pptx\n",
      "08/01/2019  07:35 AM    <DIR>          production_monitoring\n",
      "02/27/2019  12:26 PM           220,095 Punxy_gas_forecast_2_27_2019.xlsx\n",
      "07/30/2019  02:53 PM    <DIR>          python projects\n",
      "08/14/2019  03:32 PM    <DIR>          R Montecarlo\n",
      "08/15/2019  06:28 AM    <DIR>          R_Working_Versions\n",
      "07/29/2019  03:25 PM    <DIR>          simple-todos\n",
      "10/03/2019  02:26 PM    <DIR>          Single Well Economics\n",
      "07/17/2019  03:21 PM               939 Spotfire Data - Shortcut.lnk\n",
      "06/26/2019  12:56 PM            37,527 src_dl_roadmap_6_25_2019.pptx\n",
      "09/16/2019  09:24 AM           407,303 src_dl_roadmap_9_3_2019.pptx\n",
      "09/16/2019  09:24 AM           407,303 src_dl_update_9_16_2019.pptx\n",
      "07/26/2019  09:59 AM             1,692 Swift for Windows.lnk\n",
      "09/13/2019  10:43 AM    <DIR>          Teaching Python\n",
      "09/20/2019  10:42 AM           708,155 Tiki_virtual_assistant_poster.pdf\n",
      "09/20/2019  10:42 AM         1,377,928 Tiki_virtual_assistant_poster.pptx\n",
      "10/03/2019  01:52 PM    <DIR>          Utica Blend Percentage Analysis - 3_25_2019\n",
      "08/27/2019  10:58 AM    <DIR>          w261-environment\n",
      "10/21/2019  09:12 AM        11,347,821 Water Model - 10-21-2019.xlsm\n",
      "09/12/2019  08:36 AM           255,779 Water Type Curves_For Doug_9.12.2019.xlsx\n",
      "03/25/2019  08:41 AM             1,453 Weekly Water Management Update - Shortcut.lnk\n",
      "03/22/2019  09:24 AM         2,791,055 West_Branch_Pad_Order_3_22_2019.xlsm\n",
      "              19 File(s)     23,235,629 bytes\n",
      "              15 Dir(s)  341,009,354,752 bytes free\n"
     ]
    }
   ],
   "source": [
    "!dir"
   ]
  },
  {
   "cell_type": "markdown",
   "metadata": {},
   "source": [
    "# Args & Kwargs"
   ]
  },
  {
   "cell_type": "code",
   "execution_count": 245,
   "metadata": {},
   "outputs": [],
   "source": [
    "def my_function_1(*args, **kwargs):\n",
    "    return my_function_2(*args, **kwargs)\n",
    "    "
   ]
  },
  {
   "cell_type": "code",
   "execution_count": 246,
   "metadata": {},
   "outputs": [],
   "source": [
    "def my_function_2(name=\"brent\", subject=\"python\"):\n",
    "    return name+' '+subject"
   ]
  },
  {
   "cell_type": "code",
   "execution_count": 247,
   "metadata": {},
   "outputs": [
    {
     "data": {
      "text/plain": [
       "'brent python'"
      ]
     },
     "execution_count": 247,
     "metadata": {},
     "output_type": "execute_result"
    }
   ],
   "source": [
    "my_function_2()"
   ]
  },
  {
   "cell_type": "code",
   "execution_count": 249,
   "metadata": {},
   "outputs": [
    {
     "name": "stdout",
     "output_type": "stream",
     "text": [
      "Tommy Wisseau The Room\n"
     ]
    }
   ],
   "source": [
    "print(my_function_1(name=\"Tommy Wisseau\", subject=\"The Room\"))"
   ]
  },
  {
   "cell_type": "markdown",
   "metadata": {},
   "source": [
    "This may seem unimpressive but this allows us to pass arguments (args) or keyword arguments (kwargs) from function to function easily"
   ]
  },
  {
   "cell_type": "markdown",
   "metadata": {},
   "source": [
    "# F Strings"
   ]
  },
  {
   "cell_type": "code",
   "execution_count": 239,
   "metadata": {},
   "outputs": [
    {
     "name": "stdout",
     "output_type": "stream",
     "text": [
      "hello Brent Biseda\n"
     ]
    }
   ],
   "source": [
    "var1 = \"Brent\"\n",
    "var2 = \"Biseda\"\n",
    "text = f'hello {var1} {var2}'\n",
    "print(text)"
   ]
  },
  {
   "cell_type": "code",
   "execution_count": null,
   "metadata": {},
   "outputs": [],
   "source": []
  }
 ],
 "metadata": {
  "kernelspec": {
   "display_name": "Python 3",
   "language": "python",
   "name": "python3"
  },
  "language_info": {
   "codemirror_mode": {
    "name": "ipython",
    "version": 3
   },
   "file_extension": ".py",
   "mimetype": "text/x-python",
   "name": "python",
   "nbconvert_exporter": "python",
   "pygments_lexer": "ipython3",
   "version": "3.7.3"
  }
 },
 "nbformat": 4,
 "nbformat_minor": 2
}
