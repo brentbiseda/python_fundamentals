{
 "cells": [
  {
   "cell_type": "markdown",
   "metadata": {},
   "source": [
    "## Given a list of numbers and a target sum, provide the pair of values that sum to the target"
   ]
  },
  {
   "cell_type": "code",
   "execution_count": 109,
   "metadata": {},
   "outputs": [],
   "source": [
    "numbers = list(range(10000))\n",
    "target = 14281"
   ]
  },
  {
   "cell_type": "code",
   "execution_count": 100,
   "metadata": {},
   "outputs": [],
   "source": [
    "def FindPair1(numbers, target):\n",
    "    while numbers:\n",
    "        firstNumber = numbers.pop()\n",
    "        for secondNumber in numbers:\n",
    "            if firstNumber + secondNumber == target:\n",
    "                return (firstNumber, secondNumber)\n",
    "    return ()"
   ]
  },
  {
   "cell_type": "code",
   "execution_count": 111,
   "metadata": {},
   "outputs": [
    {
     "data": {
      "text/plain": [
       "(9999, 4282)"
      ]
     },
     "execution_count": 111,
     "metadata": {},
     "output_type": "execute_result"
    }
   ],
   "source": [
    "numbers = list(range(10000))\n",
    "target = 14281\n",
    "\n",
    "FindPair1(numbers,target)"
   ]
  },
  {
   "cell_type": "code",
   "execution_count": 101,
   "metadata": {},
   "outputs": [
    {
     "name": "stdout",
     "output_type": "stream",
     "text": [
      "The slowest run took 13385.27 times longer than the fastest. This could mean that an intermediate result is being cached.\n",
      "209 µs ± 422 µs per loop (mean ± std. dev. of 7 runs, 1000 loops each)\n"
     ]
    }
   ],
   "source": [
    "%%timeit\n",
    "FindPair1(numbers,target)"
   ]
  },
  {
   "cell_type": "markdown",
   "metadata": {},
   "source": [
    "## What if we know the numbers will be sorted?"
   ]
  },
  {
   "cell_type": "code",
   "execution_count": 102,
   "metadata": {},
   "outputs": [],
   "source": [
    "def FindPair2(numbers, target):\n",
    "    low = 0\n",
    "    high = len(numbers)-1\n",
    "\n",
    "    while low < high:\n",
    "        firstNumber = numbers[low]\n",
    "        secondNumber = numbers[high]\n",
    "        pairSum = firstNumber + secondNumber\n",
    "\n",
    "        if pairSum == target:\n",
    "            return (firstNumber, secondNumber)\n",
    "        elif pairSum > target:\n",
    "            high-=1\n",
    "        else:\n",
    "            low+=1\n",
    "    return ()"
   ]
  },
  {
   "cell_type": "code",
   "execution_count": 103,
   "metadata": {},
   "outputs": [
    {
     "name": "stdout",
     "output_type": "stream",
     "text": [
      "162 ns ± 0.761 ns per loop (mean ± std. dev. of 7 runs, 10000000 loops each)\n"
     ]
    }
   ],
   "source": [
    "%%timeit\n",
    "FindPair2(numbers, target)"
   ]
  },
  {
   "cell_type": "code",
   "execution_count": 104,
   "metadata": {},
   "outputs": [],
   "source": [
    "def FindPair3(numbers, target, verbose=False):\n",
    "    \n",
    "    complements = set()\n",
    "\n",
    "    for number in numbers:\n",
    "        if verbose:\n",
    "            print(f\"\\nCurrent Number: {number} \\nTarget: {target} \\nComplements: {complements} \\Current Complement: {target-number}\")\n",
    "        \n",
    "        if number in complements:\n",
    "            return (number, target-number)\n",
    "        else:\n",
    "            complements.add(target-number)\n",
    "\n",
    "    return ()"
   ]
  },
  {
   "cell_type": "code",
   "execution_count": 105,
   "metadata": {},
   "outputs": [
    {
     "data": {
      "text/plain": [
       "()"
      ]
     },
     "execution_count": 105,
     "metadata": {},
     "output_type": "execute_result"
    }
   ],
   "source": [
    "FindPair3(numbers, target, verbose=True)"
   ]
  },
  {
   "cell_type": "code",
   "execution_count": 106,
   "metadata": {},
   "outputs": [
    {
     "name": "stdout",
     "output_type": "stream",
     "text": [
      "202 ns ± 0.206 ns per loop (mean ± std. dev. of 7 runs, 1000000 loops each)\n"
     ]
    }
   ],
   "source": [
    "%%timeit\n",
    "FindPair3(numbers, target)"
   ]
  },
  {
   "cell_type": "code",
   "execution_count": null,
   "metadata": {},
   "outputs": [],
   "source": []
  }
 ],
 "metadata": {
  "kernelspec": {
   "display_name": "Python 3",
   "language": "python",
   "name": "python3"
  },
  "language_info": {
   "codemirror_mode": {
    "name": "ipython",
    "version": 3
   },
   "file_extension": ".py",
   "mimetype": "text/x-python",
   "name": "python",
   "nbconvert_exporter": "python",
   "pygments_lexer": "ipython3",
   "version": "3.7.3"
  }
 },
 "nbformat": 4,
 "nbformat_minor": 2
}
