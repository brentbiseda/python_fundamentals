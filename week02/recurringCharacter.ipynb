{
 "cells": [
  {
   "cell_type": "markdown",
   "metadata": {},
   "source": [
    "# Return the First Recurring Character in a String"
   ]
  },
  {
   "cell_type": "code",
   "execution_count": 1,
   "metadata": {},
   "outputs": [],
   "source": [
    "def recurringCharacter(myString, verbose=False):\n",
    "    seenCharacters = set()\n",
    "    \n",
    "    for character in myString:\n",
    "        if verbose:\n",
    "            print(f'Current Character: {character}, Seen Characters: {seenCharacters}')\n",
    "        if character in seenCharacters:\n",
    "            return character\n",
    "        else:\n",
    "            seenCharacters.add(character)\n",
    "    return None"
   ]
  },
  {
   "cell_type": "code",
   "execution_count": 3,
   "metadata": {},
   "outputs": [
    {
     "name": "stdout",
     "output_type": "stream",
     "text": [
      "Current Character: A, Seen Characters: set()\n",
      "Current Character: B, Seen Characters: {'A'}\n",
      "Current Character: C, Seen Characters: {'A', 'B'}\n",
      "Current Character: D, Seen Characters: {'A', 'C', 'B'}\n",
      "Current Character: E, Seen Characters: {'D', 'A', 'C', 'B'}\n",
      "Current Character: F, Seen Characters: {'D', 'E', 'B', 'A', 'C'}\n",
      "Current Character: G, Seen Characters: {'F', 'D', 'E', 'B', 'A', 'C'}\n",
      "Current Character: H, Seen Characters: {'F', 'D', 'E', 'B', 'G', 'A', 'C'}\n",
      "Current Character: I, Seen Characters: {'H', 'F', 'D', 'E', 'B', 'G', 'A', 'C'}\n",
      "Current Character: J, Seen Characters: {'I', 'H', 'F', 'D', 'E', 'B', 'G', 'A', 'C'}\n",
      "Current Character: K, Seen Characters: {'I', 'H', 'F', 'D', 'J', 'E', 'B', 'G', 'A', 'C'}\n",
      "Current Character: L, Seen Characters: {'I', 'H', 'F', 'D', 'J', 'E', 'B', 'K', 'G', 'A', 'C'}\n",
      "Current Character: J, Seen Characters: {'L', 'I', 'H', 'F', 'D', 'J', 'E', 'B', 'K', 'G', 'A', 'C'}\n"
     ]
    },
    {
     "data": {
      "text/plain": [
       "'J'"
      ]
     },
     "execution_count": 3,
     "metadata": {},
     "output_type": "execute_result"
    }
   ],
   "source": [
    "testCase = \"ABCDEFGHIJKLJF\"\n",
    "recurringCharacter(testCase, verbose=True)"
   ]
  },
  {
   "cell_type": "code",
   "execution_count": null,
   "metadata": {},
   "outputs": [],
   "source": []
  }
 ],
 "metadata": {
  "kernelspec": {
   "display_name": "Python 3",
   "language": "python",
   "name": "python3"
  },
  "language_info": {
   "codemirror_mode": {
    "name": "ipython",
    "version": 3
   },
   "file_extension": ".py",
   "mimetype": "text/x-python",
   "name": "python",
   "nbconvert_exporter": "python",
   "pygments_lexer": "ipython3",
   "version": "3.7.3"
  }
 },
 "nbformat": 4,
 "nbformat_minor": 2
}
